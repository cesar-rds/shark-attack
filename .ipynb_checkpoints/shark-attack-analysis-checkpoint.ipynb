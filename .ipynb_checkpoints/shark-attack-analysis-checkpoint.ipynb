{
 "cells": [
  {
   "cell_type": "markdown",
   "metadata": {
    "ExecuteTime": {
     "end_time": "2021-01-10T19:18:44.082898Z",
     "start_time": "2021-01-10T19:18:39.406559Z"
    }
   },
   "source": [
    "Importando bibliotecas"
   ]
  },
  {
   "cell_type": "code",
   "execution_count": 500,
   "metadata": {
    "ExecuteTime": {
     "end_time": "2021-01-15T00:16:00.244786Z",
     "start_time": "2021-01-15T00:16:00.238786Z"
    }
   },
   "outputs": [],
   "source": [
    "import pandas as pd\n",
    "import numpy as np\n",
    "import matplotlib.pyplot as plt\n",
    "import re"
   ]
  },
  {
   "cell_type": "markdown",
   "metadata": {
    "ExecuteTime": {
     "end_time": "2021-01-10T19:21:57.030573Z",
     "start_time": "2021-01-10T19:21:56.805510Z"
    }
   },
   "source": [
    "Lendo o arquivo de dados antes de limpeza"
   ]
  },
  {
   "cell_type": "code",
   "execution_count": 533,
   "metadata": {
    "ExecuteTime": {
     "end_time": "2021-01-15T00:28:17.665914Z",
     "start_time": "2021-01-15T00:28:17.468869Z"
    }
   },
   "outputs": [],
   "source": [
    "#importação de arquivo com dados para DataFrame\n",
    "data = pd.read_csv('data/attacks.csv', engine='python')"
   ]
  },
  {
   "cell_type": "code",
   "execution_count": 534,
   "metadata": {
    "ExecuteTime": {
     "end_time": "2021-01-15T00:28:18.862894Z",
     "start_time": "2021-01-15T00:28:18.847891Z"
    }
   },
   "outputs": [],
   "source": [
    "#criacao de backup para eventuais erros\n",
    "df = data"
   ]
  },
  {
   "cell_type": "code",
   "execution_count": 535,
   "metadata": {
    "ExecuteTime": {
     "end_time": "2021-01-15T00:28:20.425764Z",
     "start_time": "2021-01-15T00:28:20.394757Z"
    }
   },
   "outputs": [
    {
     "name": "stdout",
     "output_type": "stream",
     "text": [
      "<class 'pandas.core.frame.DataFrame'>\n",
      "RangeIndex: 25723 entries, 0 to 25722\n",
      "Data columns (total 24 columns):\n",
      " #   Column                  Non-Null Count  Dtype  \n",
      "---  ------                  --------------  -----  \n",
      " 0   Case Number             8702 non-null   object \n",
      " 1   Date                    6302 non-null   object \n",
      " 2   Year                    6300 non-null   float64\n",
      " 3   Type                    6298 non-null   object \n",
      " 4   Country                 6252 non-null   object \n",
      " 5   Area                    5847 non-null   object \n",
      " 6   Location                5762 non-null   object \n",
      " 7   Activity                5758 non-null   object \n",
      " 8   Name                    6092 non-null   object \n",
      " 9   Sex                     5737 non-null   object \n",
      " 10  Age                     3471 non-null   object \n",
      " 11  Injury                  6274 non-null   object \n",
      " 12  Fatal (Y/N)             5763 non-null   object \n",
      " 13  Time                    2948 non-null   object \n",
      " 14  Species                 3464 non-null   object \n",
      " 15  Investigator or Source  6285 non-null   object \n",
      " 16  pdf                     6302 non-null   object \n",
      " 17  href formula            6301 non-null   object \n",
      " 18  href                    6302 non-null   object \n",
      " 19  Case Number.1           6302 non-null   object \n",
      " 20  Case Number.2           6302 non-null   object \n",
      " 21  original order          6309 non-null   float64\n",
      " 22  Unnamed: 22             1 non-null      object \n",
      " 23  Unnamed: 23             2 non-null      object \n",
      "dtypes: float64(2), object(22)\n",
      "memory usage: 4.7+ MB\n"
     ]
    }
   ],
   "source": [
    "#Tipos de dados por coluna e a existencia de nulos\n",
    "df.info()"
   ]
  },
  {
   "cell_type": "code",
   "execution_count": 536,
   "metadata": {
    "ExecuteTime": {
     "end_time": "2021-01-15T00:28:22.618980Z",
     "start_time": "2021-01-15T00:28:22.612979Z"
    }
   },
   "outputs": [
    {
     "data": {
      "text/plain": [
       "(25723, 24)"
      ]
     },
     "execution_count": 536,
     "metadata": {},
     "output_type": "execute_result"
    }
   ],
   "source": [
    "#Tamanho do DataFrame antes da limpeza\n",
    "df.shape"
   ]
  },
  {
   "cell_type": "code",
   "execution_count": null,
   "metadata": {},
   "outputs": [],
   "source": [
    "df.head()"
   ]
  },
  {
   "cell_type": "code",
   "execution_count": 537,
   "metadata": {
    "ExecuteTime": {
     "end_time": "2021-01-15T00:28:24.025995Z",
     "start_time": "2021-01-15T00:28:23.990987Z"
    }
   },
   "outputs": [
    {
     "data": {
      "text/plain": [
       "Case Number               17021\n",
       "Date                      19421\n",
       "Year                      19423\n",
       "Type                      19425\n",
       "Country                   19471\n",
       "Area                      19876\n",
       "Location                  19961\n",
       "Activity                  19965\n",
       "Name                      19631\n",
       "Sex                       19986\n",
       "Age                       22252\n",
       "Injury                    19449\n",
       "Fatal (Y/N)               19960\n",
       "Time                      22775\n",
       "Species                   22259\n",
       "Investigator or Source    19438\n",
       "pdf                       19421\n",
       "href formula              19422\n",
       "href                      19421\n",
       "Case Number.1             19421\n",
       "Case Number.2             19421\n",
       "original order            19414\n",
       "Unnamed: 22               25722\n",
       "Unnamed: 23               25721\n",
       "dtype: int64"
      ]
     },
     "execution_count": 537,
     "metadata": {},
     "output_type": "execute_result"
    }
   ],
   "source": [
    "#Verifiando a quantidade de nulos por coluna antes de limpeza\n",
    "df.isnull().sum()"
   ]
  },
  {
   "cell_type": "code",
   "execution_count": 538,
   "metadata": {
    "ExecuteTime": {
     "end_time": "2021-01-15T00:28:26.178076Z",
     "start_time": "2021-01-15T00:28:26.172074Z"
    }
   },
   "outputs": [
    {
     "data": {
      "text/plain": [
       "Index(['Case Number', 'Date', 'Year', 'Type', 'Country', 'Area', 'Location',\n",
       "       'Activity', 'Name', 'Sex ', 'Age', 'Injury', 'Fatal (Y/N)', 'Time',\n",
       "       'Species ', 'Investigator or Source', 'pdf', 'href formula', 'href',\n",
       "       'Case Number.1', 'Case Number.2', 'original order', 'Unnamed: 22',\n",
       "       'Unnamed: 23'],\n",
       "      dtype='object')"
      ]
     },
     "execution_count": 538,
     "metadata": {},
     "output_type": "execute_result"
    }
   ],
   "source": [
    "#Nome das colunas\n",
    "df.columns"
   ]
  },
  {
   "cell_type": "code",
   "execution_count": 539,
   "metadata": {
    "ExecuteTime": {
     "end_time": "2021-01-15T00:28:27.675282Z",
     "start_time": "2021-01-15T00:28:27.662280Z"
    }
   },
   "outputs": [],
   "source": [
    "#retirando os espacos dos nomes das colunas\n",
    "df.columns = df.columns.str.strip()"
   ]
  },
  {
   "cell_type": "code",
   "execution_count": 540,
   "metadata": {
    "ExecuteTime": {
     "end_time": "2021-01-15T00:28:29.938084Z",
     "start_time": "2021-01-15T00:28:29.932083Z"
    }
   },
   "outputs": [],
   "source": [
    "#retirando colunas que nao servirão para análise\n",
    "#números de nulos praticamente semelhante ao numero de linhas, nao possui informacoes importantes.\n",
    "df = df.drop(['Species','Time','Location','Activity','Case Number','Unnamed: 22','Unnamed: 23','Name','Investigator or Source', 'pdf', 'href formula', 'href','Case Number.1', 'Case Number.2', 'original order','Injury', ], axis=1)"
   ]
  },
  {
   "cell_type": "code",
   "execution_count": 541,
   "metadata": {
    "ExecuteTime": {
     "end_time": "2021-01-15T00:28:31.638113Z",
     "start_time": "2021-01-15T00:28:31.621110Z"
    }
   },
   "outputs": [],
   "source": [
    "#elimina as linhas que todos os elementos são nulos\n",
    "df = df.dropna(axis=0, how='all')"
   ]
  },
  {
   "cell_type": "code",
   "execution_count": 542,
   "metadata": {
    "ExecuteTime": {
     "end_time": "2021-01-15T00:28:33.675162Z",
     "start_time": "2021-01-15T00:28:33.653157Z"
    }
   },
   "outputs": [],
   "source": [
    "#Retirando todos os valores diferentes do padrão dd-mmm-aaaa\n",
    "df['Date'] = df['Date'].str.extract(r'(\\d{2}-\\w{3}-\\d{4})')"
   ]
  },
  {
   "cell_type": "code",
   "execution_count": 543,
   "metadata": {
    "ExecuteTime": {
     "end_time": "2021-01-15T00:28:35.803739Z",
     "start_time": "2021-01-15T00:28:35.785736Z"
    }
   },
   "outputs": [],
   "source": [
    "#Retirando valores nulos que ficaram\n",
    "df.dropna(subset=['Date'], inplace=True)"
   ]
  },
  {
   "cell_type": "code",
   "execution_count": 544,
   "metadata": {
    "ExecuteTime": {
     "end_time": "2021-01-15T00:28:37.117186Z",
     "start_time": "2021-01-15T00:28:37.111186Z"
    }
   },
   "outputs": [
    {
     "data": {
      "text/plain": [
       "Date              0\n",
       "Year              2\n",
       "Type              4\n",
       "Country          29\n",
       "Area            304\n",
       "Sex             428\n",
       "Age            2086\n",
       "Fatal (Y/N)     458\n",
       "dtype: int64"
      ]
     },
     "execution_count": 544,
     "metadata": {},
     "output_type": "execute_result"
    }
   ],
   "source": [
    "#Verificando os nulos após alteração\n",
    "df.isnull().sum()"
   ]
  },
  {
   "cell_type": "code",
   "execution_count": 545,
   "metadata": {
    "ExecuteTime": {
     "end_time": "2021-01-15T00:28:39.356264Z",
     "start_time": "2021-01-15T00:28:39.344262Z"
    }
   },
   "outputs": [],
   "source": [
    "#Retirando valores nulos que ficaram\n",
    "df.dropna(subset=['Year'], inplace=True)"
   ]
  },
  {
   "cell_type": "code",
   "execution_count": 546,
   "metadata": {
    "ExecuteTime": {
     "end_time": "2021-01-15T00:28:40.999728Z",
     "start_time": "2021-01-15T00:28:40.993727Z"
    }
   },
   "outputs": [
    {
     "data": {
      "text/plain": [
       "Date           object\n",
       "Year            int64\n",
       "Type           object\n",
       "Country        object\n",
       "Area           object\n",
       "Sex            object\n",
       "Age            object\n",
       "Fatal (Y/N)    object\n",
       "dtype: object"
      ]
     },
     "execution_count": 546,
     "metadata": {},
     "output_type": "execute_result"
    }
   ],
   "source": [
    "#Alterando para int. Incluir dados a partir de 1900 no momento da análise\n",
    "#df['Year'].unique()\n",
    "df.astype({'Year': 'int64'}).dtypes"
   ]
  },
  {
   "cell_type": "code",
   "execution_count": 548,
   "metadata": {
    "ExecuteTime": {
     "end_time": "2021-01-15T00:28:44.729728Z",
     "start_time": "2021-01-15T00:28:44.719726Z"
    }
   },
   "outputs": [
    {
     "data": {
      "text/plain": [
       "array(['Boating', 'Unprovoked', 'Invalid', 'Provoked', 'Questionable',\n",
       "       'Sea Disaster', nan, 'Boat', 'Boatomg'], dtype=object)"
      ]
     },
     "execution_count": 548,
     "metadata": {},
     "output_type": "execute_result"
    }
   ],
   "source": [
    "#'Sea Disaster,'Boating','Boatomg','Boat' alterar estes para um unico modelo ('Boating'), e retirar os nulos\n",
    "df['Type'].unique()"
   ]
  },
  {
   "cell_type": "code",
   "execution_count": 549,
   "metadata": {
    "ExecuteTime": {
     "end_time": "2021-01-15T00:28:46.230347Z",
     "start_time": "2021-01-15T00:28:46.222346Z"
    }
   },
   "outputs": [],
   "source": [
    "#Retirando os nulos\n",
    "df.dropna(subset=['Type'], inplace=True)"
   ]
  },
  {
   "cell_type": "code",
   "execution_count": 550,
   "metadata": {
    "ExecuteTime": {
     "end_time": "2021-01-15T00:28:48.273723Z",
     "start_time": "2021-01-15T00:28:48.268723Z"
    }
   },
   "outputs": [],
   "source": [
    "#Fazendo as substituicoes\n",
    "df.Type=df.Type.replace({'Sea Disaster': 'Boating','Boat': 'Boating','Boatomg': 'Boating'})"
   ]
  },
  {
   "cell_type": "code",
   "execution_count": 551,
   "metadata": {
    "ExecuteTime": {
     "end_time": "2021-01-15T00:28:50.606405Z",
     "start_time": "2021-01-15T00:28:50.597403Z"
    }
   },
   "outputs": [
    {
     "data": {
      "text/plain": [
       "array(['USA', 'AUSTRALIA', 'MEXICO', 'BRAZIL', 'ENGLAND', 'SOUTH AFRICA',\n",
       "       'THAILAND', 'COSTA RICA', 'MALDIVES', 'BAHAMAS', 'NEW CALEDONIA',\n",
       "       'ECUADOR', 'MALAYSIA', 'LIBYA', nan, 'CUBA', 'MAURITIUS',\n",
       "       'NEW ZEALAND', 'SPAIN', 'SOLOMON ISLANDS', 'JAPAN', 'EGYPT',\n",
       "       'ST HELENA, British overseas territory', 'COMOROS', 'REUNION',\n",
       "       'UNITED KINGDOM', 'UNITED ARAB EMIRATES', 'PHILIPPINES',\n",
       "       'INDONESIA', 'FRENCH POLYNESIA', 'CHINA', 'COLUMBIA', 'CAPE VERDE',\n",
       "       'Fiji', 'DOMINICAN REPUBLIC', 'CAYMAN ISLANDS', 'ARUBA',\n",
       "       'MOZAMBIQUE', 'PUERTO RICO', 'ITALY', 'ATLANTIC OCEAN', 'GREECE',\n",
       "       'ST. MARTIN', 'FRANCE', 'PAPUA NEW GUINEA', 'TRINIDAD & TOBAGO',\n",
       "       'KIRIBATI', 'ISRAEL', 'DIEGO GARCIA', 'TAIWAN', 'JAMAICA',\n",
       "       'PALESTINIAN TERRITORIES', 'GUAM', 'SEYCHELLES', 'BELIZE',\n",
       "       'NIGERIA', 'TONGA', 'SCOTLAND', 'CANADA', 'CROATIA', 'FIJI',\n",
       "       'SAUDI ARABIA', 'CHILE', 'ANTIGUA', 'KENYA', 'RUSSIA',\n",
       "       'TURKS & CAICOS', 'UNITED ARAB EMIRATES (UAE)', 'SAMOA', 'AZORES',\n",
       "       'SOUTH KOREA', 'MALTA', 'VIETNAM', 'MADAGASCAR', 'PANAMA',\n",
       "       'SOMALIA', 'NEVIS', 'BRITISH VIRGIN ISLANDS', 'NORWAY', 'YEMEN',\n",
       "       'Sierra Leone', 'ST. MAARTIN', 'GRAND CAYMAN', 'LIBERIA',\n",
       "       'VANUATU', 'MEXICO ', 'HONDURAS', 'VENEZUELA', 'SRI LANKA',\n",
       "       ' TONGA', 'URUGUAY', 'INDIA', 'MICRONESIA', 'OKINAWA', 'TANZANIA',\n",
       "       'MARSHALL ISLANDS', 'EGYPT / ISRAEL', 'NORTHERN ARABIAN SEA',\n",
       "       'HONG KONG', 'EL SALVADOR', 'CARIBBEAN SEA', 'BERMUDA', 'NAMIBIA',\n",
       "       'PORTUGAL', 'SOUTH CHINA SEA', 'WESTERN SAMOA', 'PACIFIC OCEAN ',\n",
       "       'BRITISH ISLES', 'PALAU', 'GRENADA', 'TURKEY', 'SINGAPORE',\n",
       "       'NEW BRITAIN', 'SUDAN', 'JOHNSTON ISLAND', 'NEW GUINEA',\n",
       "       'NORTH PACIFIC OCEAN', 'FEDERATED STATES OF MICRONESIA',\n",
       "       'ADMIRALTY ISLANDS', 'BRITISH WEST INDIES', 'SOUTH ATLANTIC OCEAN',\n",
       "       'MID ATLANTIC OCEAN', 'PERSIAN GULF', 'PACIFIC OCEAN', 'SENEGAL',\n",
       "       'NORTH SEA', 'AMERICAN SAMOA', 'ANDAMAN / NICOBAR ISLANDAS',\n",
       "       'GABON', 'MONTENEGRO', 'THE BALKANS', 'ARGENTINA', 'GUATEMALA',\n",
       "       'NETHERLANDS ANTILLES', 'NORTH ATLANTIC OCEAN', 'IRAN',\n",
       "       'NORTHERN MARIANA ISLANDS', 'IRAN / IRAQ', 'SIERRA LEONE',\n",
       "       ' PHILIPPINES', 'CENTRAL PACIFIC', 'INDIAN OCEAN',\n",
       "       'SOLOMON ISLANDS / VANUATU', 'SOUTHWEST PACIFIC OCEAN',\n",
       "       'BAY OF BENGAL', 'NICARAGUA', 'IRAQ', 'ICELAND', 'ITALY / CROATIA',\n",
       "       'BARBADOS', 'GUYANA', 'HAITI', 'IRELAND', 'KUWAIT', 'TUNISIA',\n",
       "       'YEMEN ', 'CYPRUS', 'EGYPT ', 'WEST INDIES', 'BURMA', 'LEBANON',\n",
       "       'MARTINIQUE', 'PARAGUAY', 'BRITISH NEW GUINEA', 'GEORGIA',\n",
       "       'INDIAN OCEAN?', 'GUINEA', 'EQUATORIAL GUINEA / CAMEROON',\n",
       "       'COOK ISLANDS', 'TOBAGO', 'PERU', 'AFRICA', 'Coast of AFRICA',\n",
       "       'TASMAN SEA', 'Between PORTUGAL & INDIA'], dtype=object)"
      ]
     },
     "execution_count": 551,
     "metadata": {},
     "output_type": "execute_result"
    }
   ],
   "source": [
    "#verificando os dados da coluna\n",
    "df['Country'].unique()"
   ]
  },
  {
   "cell_type": "code",
   "execution_count": 552,
   "metadata": {
    "ExecuteTime": {
     "end_time": "2021-01-15T00:28:52.866478Z",
     "start_time": "2021-01-15T00:28:52.855477Z"
    }
   },
   "outputs": [],
   "source": [
    "#Retirando os nulos\n",
    "df.dropna(subset=['Country'], inplace=True)"
   ]
  },
  {
   "cell_type": "code",
   "execution_count": 553,
   "metadata": {
    "ExecuteTime": {
     "end_time": "2021-01-15T00:28:54.704196Z",
     "start_time": "2021-01-15T00:28:54.691195Z"
    }
   },
   "outputs": [],
   "source": [
    "df.Country = df.Country.str.strip()"
   ]
  },
  {
   "cell_type": "code",
   "execution_count": 554,
   "metadata": {
    "ExecuteTime": {
     "end_time": "2021-01-15T00:28:56.908508Z",
     "start_time": "2021-01-15T00:28:56.889505Z"
    }
   },
   "outputs": [],
   "source": [
    "df.Country = df.Country.str.upper()"
   ]
  },
  {
   "cell_type": "code",
   "execution_count": 555,
   "metadata": {
    "ExecuteTime": {
     "end_time": "2021-01-15T00:29:01.864620Z",
     "start_time": "2021-01-15T00:29:01.852618Z"
    },
    "code_folding": []
   },
   "outputs": [],
   "source": [
    "#limpar dados retirando os numeros\n",
    "df.dropna(subset=['Area'], inplace=True)"
   ]
  },
  {
   "cell_type": "code",
   "execution_count": 556,
   "metadata": {
    "ExecuteTime": {
     "end_time": "2021-01-15T00:29:05.901664Z",
     "start_time": "2021-01-15T00:29:05.892662Z"
    }
   },
   "outputs": [],
   "source": [
    "df.Area = df.Area.str.upper()"
   ]
  },
  {
   "cell_type": "code",
   "execution_count": 557,
   "metadata": {
    "ExecuteTime": {
     "end_time": "2021-01-15T00:29:09.888752Z",
     "start_time": "2021-01-15T00:29:09.880750Z"
    }
   },
   "outputs": [
    {
     "data": {
      "text/plain": [
       "array(['F', 'M', nan, 'M ', 'lli', 'N', '.'], dtype=object)"
      ]
     },
     "execution_count": 557,
     "metadata": {},
     "output_type": "execute_result"
    }
   ],
   "source": [
    "#Retirar espacos, nulos e informacoes diferentes de F ou M\n",
    "df['Sex'].unique()"
   ]
  },
  {
   "cell_type": "code",
   "execution_count": 558,
   "metadata": {
    "ExecuteTime": {
     "end_time": "2021-01-15T00:29:11.966086Z",
     "start_time": "2021-01-15T00:29:11.951082Z"
    }
   },
   "outputs": [],
   "source": [
    "#Fazendo as alterações, deixando as strings invalidas para \n",
    "df.Sex =df.Sex .replace({'M ': 'M','lli': 1,'N': 1, '.': 1})"
   ]
  },
  {
   "cell_type": "code",
   "execution_count": 559,
   "metadata": {
    "ExecuteTime": {
     "end_time": "2021-01-15T00:29:13.749779Z",
     "start_time": "2021-01-15T00:29:13.731776Z"
    }
   },
   "outputs": [],
   "source": [
    "df['Sex'] = df['Sex'].str.extract(r'(\\w*)')"
   ]
  },
  {
   "cell_type": "code",
   "execution_count": 560,
   "metadata": {
    "ExecuteTime": {
     "end_time": "2021-01-15T00:29:15.958502Z",
     "start_time": "2021-01-15T00:29:15.953500Z"
    }
   },
   "outputs": [],
   "source": [
    "df.dropna(subset=['Sex'], inplace=True)"
   ]
  },
  {
   "cell_type": "code",
   "execution_count": 561,
   "metadata": {
    "ExecuteTime": {
     "end_time": "2021-01-15T00:29:17.639876Z",
     "start_time": "2021-01-15T00:29:17.635875Z"
    }
   },
   "outputs": [
    {
     "data": {
      "text/plain": [
       "array(['F', 'M'], dtype=object)"
      ]
     },
     "execution_count": 561,
     "metadata": {},
     "output_type": "execute_result"
    }
   ],
   "source": [
    "df['Sex'].unique()"
   ]
  },
  {
   "cell_type": "code",
   "execution_count": 562,
   "metadata": {
    "ExecuteTime": {
     "end_time": "2021-01-15T00:29:19.990383Z",
     "start_time": "2021-01-15T00:29:19.974379Z"
    }
   },
   "outputs": [
    {
     "data": {
      "text/plain": [
       "M    4084\n",
       "F     556\n",
       "Name: Sex, dtype: int64"
      ]
     },
     "execution_count": 562,
     "metadata": {},
     "output_type": "execute_result"
    }
   ],
   "source": [
    "df['Sex'].value_counts()"
   ]
  },
  {
   "cell_type": "code",
   "execution_count": 563,
   "metadata": {
    "ExecuteTime": {
     "end_time": "2021-01-15T00:29:23.100229Z",
     "start_time": "2021-01-15T00:29:23.085225Z"
    }
   },
   "outputs": [
    {
     "data": {
      "text/plain": [
       "array(['57', '11', '48', nan, '18', '52', '15', '12', '32', '10', '21',\n",
       "       '30', '60', '33', '29', '54', '34', '41', '37', '56', '19', '25',\n",
       "       '38', '55', '35', '46', '45', '14', '28', '20', '24', '26', '49',\n",
       "       '22', '7', '31', '17', '40', '13', '42', '3', '69', '8', '50',\n",
       "       '16', '82', '73', '20s', '68', '51', '39', '58', 'Teen', '47',\n",
       "       '61', '40s', '65', '36', '66', '43', '60s', '9', '72', '59', '6',\n",
       "       '27', '64', '23', '71', '44', '62', '63', '70', '18 months', '53',\n",
       "       '30s', '50s', 'teen', '74', '28 & 26', '5', '86', '18 or 20',\n",
       "       '12 or 13', '46 & 34', '28, 23 & 30', 'Teens', '77', '8 or 10',\n",
       "       '84', '\\xa0 ', ' ', '30 or 36', '6½', '21 & ?', '75', '33 or 37',\n",
       "       'mid-30s', '23 & 20', ' 30', '7      &    31', ' 28', '16 to 18',\n",
       "       '87', '67', 'Elderly', 'mid-20s', '74 ', '45 ', '21 or 26', '20 ',\n",
       "       '>50', '18 to 22', 'adult', '? & 19', '(adult)', '33 & 37',\n",
       "       '25 or 28', '37, 67, 35, 27,  ? & 27', '21, 34,24 & 35', '30 & 32',\n",
       "       '17 & 35', 'X', '13 or 18', '33 & 26', ' 43', '81', '\"young\"', 'F',\n",
       "       'Both 11', '9 or 10', 'young', '36 & 23', '  ', '78', 'A.M.',\n",
       "       '?    &   14', '10 or 12', '31 or 33', '2½'], dtype=object)"
      ]
     },
     "execution_count": 563,
     "metadata": {},
     "output_type": "execute_result"
    }
   ],
   "source": [
    "#retirar espacos, nulos, caracteres, strings\n",
    "df['Age'].unique()"
   ]
  },
  {
   "cell_type": "code",
   "execution_count": 567,
   "metadata": {
    "ExecuteTime": {
     "end_time": "2021-01-15T00:30:26.353228Z",
     "start_time": "2021-01-15T00:30:26.337232Z"
    }
   },
   "outputs": [],
   "source": [
    "df['Age'] = df['Age'].str.extract(r'(\\d*)')"
   ]
  },
  {
   "cell_type": "code",
   "execution_count": 568,
   "metadata": {
    "ExecuteTime": {
     "end_time": "2021-01-15T00:30:29.156006Z",
     "start_time": "2021-01-15T00:30:29.139003Z"
    }
   },
   "outputs": [
    {
     "data": {
      "text/plain": [
       "array(['57', '11', '48', nan, '18', '52', '15', '12', '32', '10', '21',\n",
       "       '30', '60', '33', '29', '54', '34', '41', '37', '56', '19', '25',\n",
       "       '38', '55', '35', '46', '45', '14', '28', '20', '24', '26', '49',\n",
       "       '22', '7', '31', '17', '40', '13', '42', '3', '69', '8', '50',\n",
       "       '16', '82', '73', '68', '51', '39', '58', '', '47', '61', '65',\n",
       "       '36', '66', '43', '9', '72', '59', '6', '27', '64', '23', '71',\n",
       "       '44', '62', '63', '70', '53', '74', '5', '86', '77', '84', '75',\n",
       "       '87', '67', '81', '78', '2'], dtype=object)"
      ]
     },
     "execution_count": 568,
     "metadata": {},
     "output_type": "execute_result"
    }
   ],
   "source": [
    "df['Age'].unique()"
   ]
  },
  {
   "cell_type": "code",
   "execution_count": 571,
   "metadata": {
    "ExecuteTime": {
     "end_time": "2021-01-15T00:31:55.775224Z",
     "start_time": "2021-01-15T00:31:55.759220Z"
    }
   },
   "outputs": [],
   "source": [
    "df.update(df['Age'].fillna(\"Não informada\"))"
   ]
  },
  {
   "cell_type": "code",
   "execution_count": 572,
   "metadata": {
    "ExecuteTime": {
     "end_time": "2021-01-15T00:31:58.093431Z",
     "start_time": "2021-01-15T00:31:58.088430Z"
    }
   },
   "outputs": [
    {
     "data": {
      "text/plain": [
       "array(['57', '11', '48', 'Não informada', '18', '52', '15', '12', '32',\n",
       "       '10', '21', '30', '60', '33', '29', '54', '34', '41', '37', '56',\n",
       "       '19', '25', '38', '55', '35', '46', '45', '14', '28', '20', '24',\n",
       "       '26', '49', '22', '7', '31', '17', '40', '13', '42', '3', '69',\n",
       "       '8', '50', '16', '82', '73', '68', '51', '39', '58', '', '47',\n",
       "       '61', '65', '36', '66', '43', '9', '72', '59', '6', '27', '64',\n",
       "       '23', '71', '44', '62', '63', '70', '53', '74', '5', '86', '77',\n",
       "       '84', '75', '87', '67', '81', '78', '2'], dtype=object)"
      ]
     },
     "execution_count": 572,
     "metadata": {},
     "output_type": "execute_result"
    }
   ],
   "source": [
    "df['Age'].unique()"
   ]
  },
  {
   "cell_type": "code",
   "execution_count": 439,
   "metadata": {
    "ExecuteTime": {
     "end_time": "2021-01-14T23:36:06.689781Z",
     "start_time": "2021-01-14T23:36:06.517947Z"
    }
   },
   "outputs": [
    {
     "data": {
      "text/plain": [
       "Não informada    1510\n",
       "17                143\n",
       "18                141\n",
       "19                130\n",
       "20                129\n",
       "                 ... \n",
       "72                  1\n",
       "86                  1\n",
       "81                  1\n",
       "2                   1\n",
       "78                  1\n",
       "Name: Age, Length: 82, dtype: int64"
      ]
     },
     "execution_count": 439,
     "metadata": {},
     "output_type": "execute_result"
    }
   ],
   "source": [
    "df['Age'].value_counts()"
   ]
  },
  {
   "cell_type": "code",
   "execution_count": 573,
   "metadata": {
    "ExecuteTime": {
     "end_time": "2021-01-15T00:32:06.009535Z",
     "start_time": "2021-01-15T00:32:06.003532Z"
    }
   },
   "outputs": [
    {
     "data": {
      "text/plain": [
       "Date             0\n",
       "Year             0\n",
       "Type             0\n",
       "Country          0\n",
       "Area             0\n",
       "Sex              0\n",
       "Age              0\n",
       "Fatal (Y/N)    358\n",
       "dtype: int64"
      ]
     },
     "execution_count": 573,
     "metadata": {},
     "output_type": "execute_result"
    }
   ],
   "source": [
    "df.isnull().sum()"
   ]
  },
  {
   "cell_type": "code",
   "execution_count": 574,
   "metadata": {
    "ExecuteTime": {
     "end_time": "2021-01-15T00:32:08.200596Z",
     "start_time": "2021-01-15T00:32:08.186593Z"
    }
   },
   "outputs": [
    {
     "data": {
      "text/plain": [
       "array(['N', 'Y', nan, 'M', 'UNKNOWN', '2017', ' N'], dtype=object)"
      ]
     },
     "execution_count": 574,
     "metadata": {},
     "output_type": "execute_result"
    }
   ],
   "source": [
    "#exluir espacos, deixar todos maiusculos para leitura,  e retirar valores invalidos.\n",
    "df['Fatal (Y/N)'].unique()"
   ]
  },
  {
   "cell_type": "code",
   "execution_count": 575,
   "metadata": {
    "ExecuteTime": {
     "end_time": "2021-01-15T00:32:12.330436Z",
     "start_time": "2021-01-15T00:32:12.322435Z"
    }
   },
   "outputs": [],
   "source": [
    "df['Fatal (Y/N)'] =df['Fatal (Y/N)'].replace({'M ': 'N', 'UNKNOWN': 1,'2017': 1, ' N': 'N','M': 'N'})"
   ]
  },
  {
   "cell_type": "code",
   "execution_count": 576,
   "metadata": {
    "ExecuteTime": {
     "end_time": "2021-01-15T00:32:16.217727Z",
     "start_time": "2021-01-15T00:32:16.195723Z"
    }
   },
   "outputs": [],
   "source": [
    "df['Fatal (Y/N)'] = df['Fatal (Y/N)'].str.extract(r'(\\w*)')"
   ]
  },
  {
   "cell_type": "code",
   "execution_count": 577,
   "metadata": {
    "ExecuteTime": {
     "end_time": "2021-01-15T00:32:18.308760Z",
     "start_time": "2021-01-15T00:32:18.290756Z"
    }
   },
   "outputs": [],
   "source": [
    "df.dropna(subset=['Fatal (Y/N)'], inplace=True)"
   ]
  },
  {
   "cell_type": "code",
   "execution_count": 578,
   "metadata": {
    "ExecuteTime": {
     "end_time": "2021-01-15T00:32:20.408845Z",
     "start_time": "2021-01-15T00:32:20.394842Z"
    }
   },
   "outputs": [
    {
     "data": {
      "text/plain": [
       "array(['N', 'Y'], dtype=object)"
      ]
     },
     "execution_count": 578,
     "metadata": {},
     "output_type": "execute_result"
    }
   ],
   "source": [
    "df['Fatal (Y/N)'].unique()"
   ]
  },
  {
   "cell_type": "code",
   "execution_count": 579,
   "metadata": {
    "ExecuteTime": {
     "end_time": "2021-01-15T00:32:22.175863Z",
     "start_time": "2021-01-15T00:32:22.160860Z"
    }
   },
   "outputs": [
    {
     "data": {
      "text/plain": [
       "N    3367\n",
       "Y     894\n",
       "Name: Fatal (Y/N), dtype: int64"
      ]
     },
     "execution_count": 579,
     "metadata": {},
     "output_type": "execute_result"
    }
   ],
   "source": [
    "df['Fatal (Y/N)'].value_counts()"
   ]
  },
  {
   "cell_type": "code",
   "execution_count": 580,
   "metadata": {
    "ExecuteTime": {
     "end_time": "2021-01-15T00:32:24.744224Z",
     "start_time": "2021-01-15T00:32:24.729222Z"
    }
   },
   "outputs": [
    {
     "data": {
      "text/plain": [
       "count     4261\n",
       "unique       2\n",
       "top          N\n",
       "freq      3367\n",
       "Name: Fatal (Y/N), dtype: object"
      ]
     },
     "execution_count": 580,
     "metadata": {},
     "output_type": "execute_result"
    }
   ],
   "source": [
    "#verificando quantas NaN ainda existem em cada coluna.\n",
    "df['Fatal (Y/N)'].describe()"
   ]
  },
  {
   "cell_type": "code",
   "execution_count": 581,
   "metadata": {
    "ExecuteTime": {
     "end_time": "2021-01-15T00:32:30.354966Z",
     "start_time": "2021-01-15T00:32:30.342964Z"
    }
   },
   "outputs": [
    {
     "data": {
      "text/plain": [
       "Date           0\n",
       "Year           0\n",
       "Type           0\n",
       "Country        0\n",
       "Area           0\n",
       "Sex            0\n",
       "Age            0\n",
       "Fatal (Y/N)    0\n",
       "dtype: int64"
      ]
     },
     "execution_count": 581,
     "metadata": {},
     "output_type": "execute_result"
    }
   ],
   "source": [
    "df.isnull().sum()"
   ]
  },
  {
   "cell_type": "markdown",
   "metadata": {
    "ExecuteTime": {
     "end_time": "2021-01-14T23:35:32.094703Z",
     "start_time": "2021-01-14T23:35:32.083700Z"
    }
   },
   "source": [
    "Dados por país"
   ]
  },
  {
   "cell_type": "code",
   "execution_count": 588,
   "metadata": {
    "ExecuteTime": {
     "end_time": "2021-01-15T00:37:01.103474Z",
     "start_time": "2021-01-15T00:37:01.086471Z"
    }
   },
   "outputs": [],
   "source": [
    "#Agora sem valores nulos vamos observar os valores por paises\n",
    "country_sum = df.Country.value_counts()"
   ]
  },
  {
   "cell_type": "code",
   "execution_count": 589,
   "metadata": {
    "ExecuteTime": {
     "end_time": "2021-01-15T00:37:16.600515Z",
     "start_time": "2021-01-15T00:37:16.589513Z"
    }
   },
   "outputs": [],
   "source": [
    "#pegando os 20 paises com mais ocorrencias e separando\n",
    "top_country = df.Country.value_counts().sort_values(ascending = False).head(20)"
   ]
  },
  {
   "cell_type": "code",
   "execution_count": 595,
   "metadata": {
    "ExecuteTime": {
     "end_time": "2021-01-15T00:45:23.721513Z",
     "start_time": "2021-01-15T00:45:23.536471Z"
    }
   },
   "outputs": [
    {
     "data": {
      "text/plain": [
       "Text(0.5, 1.0, 'Countries with more records')"
      ]
     },
     "execution_count": 595,
     "metadata": {},
     "output_type": "execute_result"
    },
    {
     "data": {
      "image/png": "[encoded data removed]",
      "text/plain": [
       "<Figure size 432x288 with 1 Axes>"
      ]
     },
     "metadata": {
      "needs_background": "light"
     },
     "output_type": "display_data"
    }
   ],
   "source": [
    "top_country.plot.bar()\n",
    "plt.xlabel(\"Countrys\")\n",
    "plt.ylabel(\"Numbers of shark attacks\")\n",
    "plt.title(\"Countries with more records\")"
   ]
  },
  {
   "cell_type": "markdown",
   "metadata": {
    "ExecuteTime": {
     "end_time": "2021-01-14T23:36:09.319476Z",
     "start_time": "2021-01-14T23:36:09.304475Z"
    }
   },
   "source": [
    "Dados por decada"
   ]
  },
  {
   "cell_type": "code",
   "execution_count": 597,
   "metadata": {
    "ExecuteTime": {
     "end_time": "2021-01-15T00:48:34.669569Z",
     "start_time": "2021-01-15T00:48:34.659567Z"
    }
   },
   "outputs": [],
   "source": [
    "df[\"Decades\"] = pd.cut(df.Year, bins=[1959,1969,1979,1989,1999,2009, 2019], labels=range(1960,2020,10))"
   ]
  },
  {
   "cell_type": "code",
   "execution_count": 598,
   "metadata": {
    "ExecuteTime": {
     "end_time": "2021-01-15T00:48:52.588914Z",
     "start_time": "2021-01-15T00:48:52.574912Z"
    }
   },
   "outputs": [
    {
     "data": {
      "text/plain": [
       "2010    886\n",
       "2000    824\n",
       "1990    439\n",
       "1960    370\n",
       "1980    299\n",
       "1970    224\n",
       "Name: Decades, dtype: int64"
      ]
     },
     "execution_count": 598,
     "metadata": {},
     "output_type": "execute_result"
    }
   ],
   "source": [
    "df[\"Decades\"].value_counts()"
   ]
  },
  {
   "cell_type": "code",
   "execution_count": 606,
   "metadata": {
    "ExecuteTime": {
     "end_time": "2021-01-15T00:56:13.500058Z",
     "start_time": "2021-01-15T00:56:13.413038Z"
    }
   },
   "outputs": [
    {
     "data": {
      "text/plain": [
       "Text(0.5, 1.0, 'Fatal age attack')"
      ]
     },
     "execution_count": 606,
     "metadata": {},
     "output_type": "execute_result"
    },
    {
     "data": {
      "image/png": "[encoded data removed]",
      "text/plain": [
       "<Figure size 432x288 with 1 Axes>"
      ]
     },
     "metadata": {},
     "output_type": "display_data"
    }
   ],
   "source": [
    "df[(df[\"Decades\"] == 1990) & (df[\"Fatal (Y/N)\"]==\"Y\")].Age.value_counts().plot(kind=\"pie\")\n",
    "plt.title(\"Fatal age attack\")"
   ]
  },
  {
   "cell_type": "code",
   "execution_count": 633,
   "metadata": {
    "ExecuteTime": {
     "end_time": "2021-01-15T01:11:24.354888Z",
     "start_time": "2021-01-15T01:11:24.342885Z"
    }
   },
   "outputs": [],
   "source": [
    "TopAge = df['Age'].value_counts().sort_values(ascending = False).head(20)"
   ]
  },
  {
   "cell_type": "code",
   "execution_count": 634,
   "metadata": {
    "ExecuteTime": {
     "end_time": "2021-01-15T01:11:53.680654Z",
     "start_time": "2021-01-15T01:11:53.558626Z"
    }
   },
   "outputs": [
    {
     "data": {
      "text/plain": [
       "<matplotlib.axes._subplots.AxesSubplot at 0x17709e29c88>"
      ]
     },
     "execution_count": 634,
     "metadata": {},
     "output_type": "execute_result"
    },
    {
     "data": {
      "image/png": "[encoded data removed]",
      "text/plain": [
       "<Figure size 432x288 with 1 Axes>"
      ]
     },
     "metadata": {
      "needs_background": "light"
     },
     "output_type": "display_data"
    }
   ],
   "source": [
    "TopAge.plot.bar()"
   ]
  },
  {
   "cell_type": "code",
   "execution_count": 639,
   "metadata": {
    "ExecuteTime": {
     "end_time": "2021-01-15T01:14:38.410032Z",
     "start_time": "2021-01-15T01:14:38.300009Z"
    }
   },
   "outputs": [
    {
     "data": {
      "text/plain": [
       "Text(0.5, 1.0, 'Attacks per year')"
      ]
     },
     "execution_count": 639,
     "metadata": {},
     "output_type": "execute_result"
    },
    {
     "data": {
      "image/png": "[encoded data removed]",
      "text/plain": [
       "<Figure size 432x288 with 1 Axes>"
      ]
     },
     "metadata": {
      "needs_background": "light"
     },
     "output_type": "display_data"
    }
   ],
   "source": [
    "attacks_year= df.groupby('Year', as_index=False).count()\n",
    "year_by_year = attacks_year[dfYears['Year'] > 1900]\n",
    "year_by_year.plot.scatter(x = 'Year', y = 'Date')\n",
    "plt.xlabel(\"Year\")\n",
    "plt.ylabel(\"Total cases\")\n",
    "plt.title(\"Attacks per year\")"
   ]
  },
  {
   "cell_type": "code",
   "execution_count": null,
   "metadata": {
    "ExecuteTime": {
     "end_time": "2021-01-14T23:36:09.327479Z",
     "start_time": "2021-01-14T23:36:01.545Z"
    }
   },
   "outputs": [],
   "source": [
    "Dados por sexo"
   ]
  },
  {
   "cell_type": "code",
   "execution_count": 659,
   "metadata": {
    "ExecuteTime": {
     "end_time": "2021-01-15T01:28:41.787432Z",
     "start_time": "2021-01-15T01:28:41.631397Z"
    }
   },
   "outputs": [
    {
     "data": {
      "text/plain": [
       "<matplotlib.axes._subplots.AxesSubplot at 0x1770a7a99c8>"
      ]
     },
     "execution_count": 659,
     "metadata": {},
     "output_type": "execute_result"
    },
    {
     "data": {
      "image/png": "[encoded data removed]",
      "text/plain": [
       "<Figure size 432x288 with 1 Axes>"
      ]
     },
     "metadata": {
      "needs_background": "light"
     },
     "output_type": "display_data"
    }
   ],
   "source": [
    "df['Sex'].value_counts().plot.bar()"
   ]
  },
  {
   "cell_type": "code",
   "execution_count": 582,
   "metadata": {
    "ExecuteTime": {
     "end_time": "2021-01-15T00:34:33.879946Z",
     "start_time": "2021-01-15T00:34:33.640576Z"
    }
   },
   "outputs": [],
   "source": [
    "df.to_csv(\"data/attacks_cleaning.csv\")"
   ]
  },
  {
   "cell_type": "code",
   "execution_count": null,
   "metadata": {},
   "outputs": [],
   "source": []
  }
 ],
 "metadata": {
  "kernelspec": {
   "display_name": "Python 3",
   "language": "python",
   "name": "python3"
  },
  "language_info": {
   "codemirror_mode": {
    "name": "ipython",
    "version": 3
   },
   "file_extension": ".py",
   "mimetype": "text/x-python",
   "name": "python",
   "nbconvert_exporter": "python",
   "pygments_lexer": "ipython3",
   "version": "3.7.6"
  },
  "varInspector": {
   "cols": {
    "lenName": 16,
    "lenType": 16,
    "lenVar": 40
   },
   "kernels_config": {
    "python": {
     "delete_cmd_postfix": "",
     "delete_cmd_prefix": "del ",
     "library": "var_list.py",
     "varRefreshCmd": "print(var_dic_list())"
    },
    "r": {
     "delete_cmd_postfix": ") ",
     "delete_cmd_prefix": "rm(",
     "library": "var_list.r",
     "varRefreshCmd": "cat(var_dic_list()) "
    }
   },
   "types_to_exclude": [
    "module",
    "function",
    "builtin_function_or_method",
    "instance",
    "_Feature"
   ],
   "window_display": false
  }
 },
 "nbformat": 4,
 "nbformat_minor": 4
}
