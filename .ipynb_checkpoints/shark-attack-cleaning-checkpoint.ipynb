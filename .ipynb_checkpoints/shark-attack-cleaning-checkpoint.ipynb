{
 "cells": [
  {
   "cell_type": "markdown",
   "metadata": {
    "ExecuteTime": {
     "end_time": "2021-01-10T19:18:44.082898Z",
     "start_time": "2021-01-10T19:18:39.406559Z"
    }
   },
   "source": [
    "Importando bibliotecas"
   ]
  },
  {
   "cell_type": "code",
   "execution_count": 2,
   "metadata": {
    "ExecuteTime": {
     "end_time": "2021-01-14T17:46:08.283363Z",
     "start_time": "2021-01-14T17:46:07.835743Z"
    }
   },
   "outputs": [],
   "source": [
    "import pandas as pd\n",
    "import numpy as np\n",
    "import matplotlib.pyplot as plt\n",
    "import re"
   ]
  },
  {
   "cell_type": "markdown",
   "metadata": {
    "ExecuteTime": {
     "end_time": "2021-01-10T19:21:57.030573Z",
     "start_time": "2021-01-10T19:21:56.805510Z"
    }
   },
   "source": [
    "Lendo o arquivo de dados antes de limpeza"
   ]
  },
  {
   "cell_type": "code",
   "execution_count": 8,
   "metadata": {
    "ExecuteTime": {
     "end_time": "2021-01-14T17:47:33.263081Z",
     "start_time": "2021-01-14T17:47:33.062078Z"
    }
   },
   "outputs": [],
   "source": [
    "#importação de arquivo com dados para DataFrame\n",
    "data = pd.read_csv('data/attacks.csv', engine='python', index_col=0)"
   ]
  },
  {
   "cell_type": "code",
   "execution_count": 9,
   "metadata": {
    "ExecuteTime": {
     "end_time": "2021-01-14T17:47:34.717832Z",
     "start_time": "2021-01-14T17:47:34.701828Z"
    }
   },
   "outputs": [],
   "source": [
    "#criacao de backup para eventuais erros\n",
    "df = data"
   ]
  },
  {
   "cell_type": "code",
   "execution_count": 10,
   "metadata": {
    "ExecuteTime": {
     "end_time": "2021-01-14T17:47:36.711144Z",
     "start_time": "2021-01-14T17:47:36.674135Z"
    }
   },
   "outputs": [
    {
     "name": "stdout",
     "output_type": "stream",
     "text": [
      "<class 'pandas.core.frame.DataFrame'>\n",
      "Index: 25723 entries, 2018.06.25 to xx\n",
      "Data columns (total 23 columns):\n",
      " #   Column                  Non-Null Count  Dtype  \n",
      "---  ------                  --------------  -----  \n",
      " 0   Date                    6302 non-null   object \n",
      " 1   Year                    6300 non-null   float64\n",
      " 2   Type                    6298 non-null   object \n",
      " 3   Country                 6252 non-null   object \n",
      " 4   Area                    5847 non-null   object \n",
      " 5   Location                5762 non-null   object \n",
      " 6   Activity                5758 non-null   object \n",
      " 7   Name                    6092 non-null   object \n",
      " 8   Sex                     5737 non-null   object \n",
      " 9   Age                     3471 non-null   object \n",
      " 10  Injury                  6274 non-null   object \n",
      " 11  Fatal (Y/N)             5763 non-null   object \n",
      " 12  Time                    2948 non-null   object \n",
      " 13  Species                 3464 non-null   object \n",
      " 14  Investigator or Source  6285 non-null   object \n",
      " 15  pdf                     6302 non-null   object \n",
      " 16  href formula            6301 non-null   object \n",
      " 17  href                    6302 non-null   object \n",
      " 18  Case Number.1           6302 non-null   object \n",
      " 19  Case Number.2           6302 non-null   object \n",
      " 20  original order          6309 non-null   float64\n",
      " 21  Unnamed: 22             1 non-null      object \n",
      " 22  Unnamed: 23             2 non-null      object \n",
      "dtypes: float64(2), object(21)\n",
      "memory usage: 4.7+ MB\n"
     ]
    }
   ],
   "source": [
    "#Tipos de dados por coluna e a existencia de nulos\n",
    "df.info()"
   ]
  },
  {
   "cell_type": "code",
   "execution_count": 11,
   "metadata": {
    "ExecuteTime": {
     "end_time": "2021-01-14T17:47:46.048140Z",
     "start_time": "2021-01-14T17:47:46.044139Z"
    }
   },
   "outputs": [
    {
     "data": {
      "text/plain": [
       "(25723, 23)"
      ]
     },
     "execution_count": 11,
     "metadata": {},
     "output_type": "execute_result"
    }
   ],
   "source": [
    "#Tamanho do DataFrame\n",
    "df.shape"
   ]
  },
  {
   "cell_type": "code",
   "execution_count": 6,
   "metadata": {
    "ExecuteTime": {
     "end_time": "2021-01-14T17:46:58.208882Z",
     "start_time": "2021-01-14T17:46:58.199882Z"
    }
   },
   "outputs": [
    {
     "data": {
      "text/plain": [
       "Index(['Case Number', 'Date', 'Year', 'Type', 'Country', 'Area', 'Location',\n",
       "       'Activity', 'Name', 'Sex ', 'Age', 'Injury', 'Fatal (Y/N)', 'Time',\n",
       "       'Species ', 'Investigator or Source', 'pdf', 'href formula', 'href',\n",
       "       'Case Number.1', 'Case Number.2', 'original order', 'Unnamed: 22',\n",
       "       'Unnamed: 23'],\n",
       "      dtype='object')"
      ]
     },
     "execution_count": 6,
     "metadata": {},
     "output_type": "execute_result"
    }
   ],
   "source": [
    "#Nome das colunas\n",
    "df.columns"
   ]
  },
  {
   "cell_type": "code",
   "execution_count": 7,
   "metadata": {
    "ExecuteTime": {
     "end_time": "2021-01-14T17:47:00.750153Z",
     "start_time": "2021-01-14T17:47:00.714577Z"
    }
   },
   "outputs": [
    {
     "data": {
      "text/plain": [
       "Case Number               17021\n",
       "Date                      19421\n",
       "Year                      19423\n",
       "Type                      19425\n",
       "Country                   19471\n",
       "Area                      19876\n",
       "Location                  19961\n",
       "Activity                  19965\n",
       "Name                      19631\n",
       "Sex                       19986\n",
       "Age                       22252\n",
       "Injury                    19449\n",
       "Fatal (Y/N)               19960\n",
       "Time                      22775\n",
       "Species                   22259\n",
       "Investigator or Source    19438\n",
       "pdf                       19421\n",
       "href formula              19422\n",
       "href                      19421\n",
       "Case Number.1             19421\n",
       "Case Number.2             19421\n",
       "original order            19414\n",
       "Unnamed: 22               25722\n",
       "Unnamed: 23               25721\n",
       "dtype: int64"
      ]
     },
     "execution_count": 7,
     "metadata": {},
     "output_type": "execute_result"
    }
   ],
   "source": [
    "df.isnull().sum()"
   ]
  },
  {
   "cell_type": "code",
   "execution_count": 59,
   "metadata": {
    "ExecuteTime": {
     "end_time": "2021-01-14T16:59:45.600559Z",
     "start_time": "2021-01-14T16:59:45.563357Z"
    }
   },
   "outputs": [],
   "source": [
    "#elimina as linhas que todos os elementos são nulos\n",
    "df = df.dropna(axis=0, how='all')"
   ]
  },
  {
   "cell_type": "code",
   "execution_count": 60,
   "metadata": {
    "ExecuteTime": {
     "end_time": "2021-01-14T16:59:47.058386Z",
     "start_time": "2021-01-14T16:59:47.048385Z"
    }
   },
   "outputs": [
    {
     "data": {
      "text/plain": [
       "(8703, 24)"
      ]
     },
     "execution_count": 60,
     "metadata": {},
     "output_type": "execute_result"
    }
   ],
   "source": [
    "df.shape"
   ]
  },
  {
   "cell_type": "code",
   "execution_count": 61,
   "metadata": {
    "ExecuteTime": {
     "end_time": "2021-01-14T16:59:49.921566Z",
     "start_time": "2021-01-14T16:59:49.895412Z"
    }
   },
   "outputs": [],
   "source": [
    "#mantem linhas que possuam pelo menos 13 dados que nao sejam NaN, 59% das colunas\n",
    "df = df.dropna(thresh=13)"
   ]
  },
  {
   "cell_type": "code",
   "execution_count": 62,
   "metadata": {
    "ExecuteTime": {
     "end_time": "2021-01-14T16:59:51.369484Z",
     "start_time": "2021-01-14T16:59:51.366483Z"
    }
   },
   "outputs": [
    {
     "data": {
      "text/plain": [
       "(6302, 24)"
      ]
     },
     "execution_count": 62,
     "metadata": {},
     "output_type": "execute_result"
    }
   ],
   "source": [
    "df.shape"
   ]
  },
  {
   "cell_type": "code",
   "execution_count": 63,
   "metadata": {
    "ExecuteTime": {
     "end_time": "2021-01-14T16:59:53.849221Z",
     "start_time": "2021-01-14T16:59:53.824216Z"
    }
   },
   "outputs": [
    {
     "data": {
      "text/plain": [
       "Case Number                  1\n",
       "Date                         0\n",
       "Year                         2\n",
       "Type                         4\n",
       "Country                     50\n",
       "Area                       455\n",
       "Location                   540\n",
       "Activity                   544\n",
       "Name                       210\n",
       "Sex                        565\n",
       "Age                       2831\n",
       "Injury                      28\n",
       "Fatal (Y/N)                539\n",
       "Time                      3354\n",
       "Species                   2838\n",
       "Investigator or Source      17\n",
       "pdf                          0\n",
       "href formula                 1\n",
       "href                         0\n",
       "Case Number.1                0\n",
       "Case Number.2                0\n",
       "original order               0\n",
       "Unnamed: 22               6301\n",
       "Unnamed: 23               6300\n",
       "dtype: int64"
      ]
     },
     "execution_count": 63,
     "metadata": {},
     "output_type": "execute_result"
    }
   ],
   "source": [
    "#verificando quantas NaN ainda existem em cada coluna.\n",
    "df.isnull().sum()"
   ]
  },
  {
   "cell_type": "code",
   "execution_count": 64,
   "metadata": {
    "ExecuteTime": {
     "end_time": "2021-01-14T16:59:57.170540Z",
     "start_time": "2021-01-14T16:59:57.151420Z"
    }
   },
   "outputs": [],
   "source": [
    "#retirando colunas Unnamed: 22 e Unnamed: 23,\n",
    "#números de nulos praticamente semelhante ao numero de linhas, nao possui informacoes importantes.\n",
    "df = df.drop([\"Unnamed: 22\"], axis=1)"
   ]
  },
  {
   "cell_type": "code",
   "execution_count": 65,
   "metadata": {
    "ExecuteTime": {
     "end_time": "2021-01-14T16:59:58.842562Z",
     "start_time": "2021-01-14T16:59:58.828560Z"
    }
   },
   "outputs": [],
   "source": [
    "df = df.drop([\"Unnamed: 23\"], axis=1)"
   ]
  },
  {
   "cell_type": "code",
   "execution_count": 66,
   "metadata": {
    "ExecuteTime": {
     "end_time": "2021-01-14T17:00:04.670204Z",
     "start_time": "2021-01-14T17:00:04.645198Z"
    }
   },
   "outputs": [
    {
     "data": {
      "text/plain": [
       "Case Number                  1\n",
       "Date                         0\n",
       "Year                         2\n",
       "Type                         4\n",
       "Country                     50\n",
       "Area                       455\n",
       "Location                   540\n",
       "Activity                   544\n",
       "Name                       210\n",
       "Sex                        565\n",
       "Age                       2831\n",
       "Injury                      28\n",
       "Fatal (Y/N)                539\n",
       "Time                      3354\n",
       "Species                   2838\n",
       "Investigator or Source      17\n",
       "pdf                          0\n",
       "href formula                 1\n",
       "href                         0\n",
       "Case Number.1                0\n",
       "Case Number.2                0\n",
       "original order               0\n",
       "dtype: int64"
      ]
     },
     "execution_count": 66,
     "metadata": {},
     "output_type": "execute_result"
    }
   ],
   "source": [
    "df.isnull().sum()"
   ]
  },
  {
   "cell_type": "code",
   "execution_count": null,
   "metadata": {},
   "outputs": [],
   "source": [
    "Dados por país"
   ]
  },
  {
   "cell_type": "code",
   "execution_count": 97,
   "metadata": {
    "ExecuteTime": {
     "end_time": "2021-01-14T17:10:21.761644Z",
     "start_time": "2021-01-14T17:10:21.751642Z"
    }
   },
   "outputs": [],
   "source": [
    "#Separando apenas a coluna para analise posterior e limpeza\n",
    "dfCountry = df['Country']"
   ]
  },
  {
   "cell_type": "code",
   "execution_count": 98,
   "metadata": {
    "ExecuteTime": {
     "end_time": "2021-01-14T17:10:22.994538Z",
     "start_time": "2021-01-14T17:10:22.989536Z"
    }
   },
   "outputs": [
    {
     "data": {
      "text/plain": [
       "50"
      ]
     },
     "execution_count": 98,
     "metadata": {},
     "output_type": "execute_result"
    }
   ],
   "source": [
    "#Verificando a quantidade de nulos na coluna\n",
    "dfCountry.isnull().sum()"
   ]
  },
  {
   "cell_type": "code",
   "execution_count": 99,
   "metadata": {
    "ExecuteTime": {
     "end_time": "2021-01-14T17:10:25.736605Z",
     "start_time": "2021-01-14T17:10:25.729603Z"
    }
   },
   "outputs": [],
   "source": [
    "#Retirando os 50 nulos que ainda possui e já aplicando no dataFrame\n",
    "dfCountry.dropna(axis = 0 , inplace=True)"
   ]
  },
  {
   "cell_type": "code",
   "execution_count": 100,
   "metadata": {
    "ExecuteTime": {
     "end_time": "2021-01-14T17:10:28.623606Z",
     "start_time": "2021-01-14T17:10:28.613604Z"
    }
   },
   "outputs": [
    {
     "data": {
      "text/plain": [
       "0"
      ]
     },
     "execution_count": 100,
     "metadata": {},
     "output_type": "execute_result"
    }
   ],
   "source": [
    "#Confirmando se realmente foram eliminados os nulos da coluna\n",
    "dfCountry.isnull().sum()"
   ]
  },
  {
   "cell_type": "code",
   "execution_count": 102,
   "metadata": {
    "ExecuteTime": {
     "end_time": "2021-01-14T17:11:05.717249Z",
     "start_time": "2021-01-14T17:11:05.710243Z"
    }
   },
   "outputs": [
    {
     "data": {
      "text/plain": [
       "USA                  2229\n",
       "AUSTRALIA            1338\n",
       "SOUTH AFRICA          579\n",
       "PAPUA NEW GUINEA      134\n",
       "NEW ZEALAND           128\n",
       "                     ... \n",
       "MONACO                  1\n",
       "ADMIRALTY ISLANDS       1\n",
       "IRELAND                 1\n",
       "PUERTO RICO             1\n",
       "GEORGIA                 1\n",
       "Name: Country, Length: 212, dtype: int64"
      ]
     },
     "execution_count": 102,
     "metadata": {},
     "output_type": "execute_result"
    }
   ],
   "source": [
    "#Agora sem valores nulos vamos observar os valores por paises\n",
    "dfCountry.value_counts()"
   ]
  },
  {
   "cell_type": "code",
   "execution_count": 113,
   "metadata": {
    "ExecuteTime": {
     "end_time": "2021-01-14T17:18:52.092770Z",
     "start_time": "2021-01-14T17:18:52.085769Z"
    }
   },
   "outputs": [],
   "source": [
    "#pegando os 20 paises com mais ocorrencias e separando\n",
    "top_country = dfCountry.value_counts().sort_values(ascending = False).head(20)\n"
   ]
  },
  {
   "cell_type": "code",
   "execution_count": 111,
   "metadata": {
    "ExecuteTime": {
     "end_time": "2021-01-14T17:14:39.181749Z",
     "start_time": "2021-01-14T17:14:39.044716Z"
    }
   },
   "outputs": [
    {
     "data": {
      "text/plain": [
       "<matplotlib.axes._subplots.AxesSubplot at 0x1eb87aecdc8>"
      ]
     },
     "execution_count": 111,
     "metadata": {},
     "output_type": "execute_result"
    },
    {
     "data": {
      "image/png": "[encoded data removed]",
      "text/plain": [
       "<Figure size 432x288 with 1 Axes>"
      ]
     },
     "metadata": {
      "needs_background": "light"
     },
     "output_type": "display_data"
    }
   ],
   "source": [
    "top_country.plot.bar(x ='Number cases', y = 'Países')"
   ]
  },
  {
   "cell_type": "code",
   "execution_count": null,
   "metadata": {},
   "outputs": [],
   "source": [
    "Dados por idade"
   ]
  },
  {
   "cell_type": "code",
   "execution_count": 115,
   "metadata": {
    "ExecuteTime": {
     "end_time": "2021-01-14T17:31:02.187225Z",
     "start_time": "2021-01-14T17:31:02.180165Z"
    }
   },
   "outputs": [
    {
     "data": {
      "text/plain": [
       "2831"
      ]
     },
     "execution_count": 115,
     "metadata": {},
     "output_type": "execute_result"
    }
   ],
   "source": [
    "df['Age'].isnull().sum()"
   ]
  },
  {
   "cell_type": "code",
   "execution_count": 116,
   "metadata": {
    "ExecuteTime": {
     "end_time": "2021-01-14T17:31:03.626379Z",
     "start_time": "2021-01-14T17:31:03.617380Z"
    }
   },
   "outputs": [],
   "source": [
    "dfAge = df['Age']"
   ]
  },
  {
   "cell_type": "code",
   "execution_count": 117,
   "metadata": {
    "ExecuteTime": {
     "end_time": "2021-01-14T17:31:16.652457Z",
     "start_time": "2021-01-14T17:31:16.642455Z"
    }
   },
   "outputs": [],
   "source": [
    "dfAge.dropna(axis = 0 , inplace=True)"
   ]
  },
  {
   "cell_type": "code",
   "execution_count": 118,
   "metadata": {
    "ExecuteTime": {
     "end_time": "2021-01-14T17:31:25.013470Z",
     "start_time": "2021-01-14T17:31:25.003468Z"
    }
   },
   "outputs": [
    {
     "data": {
      "text/plain": [
       "0"
      ]
     },
     "execution_count": 118,
     "metadata": {},
     "output_type": "execute_result"
    }
   ],
   "source": [
    "dfAge.isnull().sum()"
   ]
  },
  {
   "cell_type": "code",
   "execution_count": 149,
   "metadata": {
    "ExecuteTime": {
     "end_time": "2021-01-14T17:44:03.524732Z",
     "start_time": "2021-01-14T17:44:03.507729Z"
    }
   },
   "outputs": [
    {
     "ename": "AttributeError",
     "evalue": "'Series' object has no attribute 'info'",
     "output_type": "error",
     "traceback": [
      "\u001b[1;31m---------------------------------------------------------------------------\u001b[0m",
      "\u001b[1;31mAttributeError\u001b[0m                            Traceback (most recent call last)",
      "\u001b[1;32m<ipython-input-149-86af2dad583c>\u001b[0m in \u001b[0;36m<module>\u001b[1;34m\u001b[0m\n\u001b[0;32m      1\u001b[0m \u001b[1;31m#dfAge.value_counts()\u001b[0m\u001b[1;33m\u001b[0m\u001b[1;33m\u001b[0m\u001b[1;33m\u001b[0m\u001b[0m\n\u001b[1;32m----> 2\u001b[1;33m \u001b[0mdfAge\u001b[0m\u001b[1;33m.\u001b[0m\u001b[0minfo\u001b[0m\u001b[1;33m(\u001b[0m\u001b[1;33m)\u001b[0m\u001b[1;33m\u001b[0m\u001b[1;33m\u001b[0m\u001b[0m\n\u001b[0m",
      "\u001b[1;32m~\\AppData\\Roaming\\Python\\Python37\\site-packages\\pandas\\core\\generic.py\u001b[0m in \u001b[0;36m__getattr__\u001b[1;34m(self, name)\u001b[0m\n\u001b[0;32m   5137\u001b[0m             \u001b[1;32mif\u001b[0m \u001b[0mself\u001b[0m\u001b[1;33m.\u001b[0m\u001b[0m_info_axis\u001b[0m\u001b[1;33m.\u001b[0m\u001b[0m_can_hold_identifiers_and_holds_name\u001b[0m\u001b[1;33m(\u001b[0m\u001b[0mname\u001b[0m\u001b[1;33m)\u001b[0m\u001b[1;33m:\u001b[0m\u001b[1;33m\u001b[0m\u001b[1;33m\u001b[0m\u001b[0m\n\u001b[0;32m   5138\u001b[0m                 \u001b[1;32mreturn\u001b[0m \u001b[0mself\u001b[0m\u001b[1;33m[\u001b[0m\u001b[0mname\u001b[0m\u001b[1;33m]\u001b[0m\u001b[1;33m\u001b[0m\u001b[1;33m\u001b[0m\u001b[0m\n\u001b[1;32m-> 5139\u001b[1;33m             \u001b[1;32mreturn\u001b[0m \u001b[0mobject\u001b[0m\u001b[1;33m.\u001b[0m\u001b[0m__getattribute__\u001b[0m\u001b[1;33m(\u001b[0m\u001b[0mself\u001b[0m\u001b[1;33m,\u001b[0m \u001b[0mname\u001b[0m\u001b[1;33m)\u001b[0m\u001b[1;33m\u001b[0m\u001b[1;33m\u001b[0m\u001b[0m\n\u001b[0m\u001b[0;32m   5140\u001b[0m \u001b[1;33m\u001b[0m\u001b[0m\n\u001b[0;32m   5141\u001b[0m     \u001b[1;32mdef\u001b[0m \u001b[0m__setattr__\u001b[0m\u001b[1;33m(\u001b[0m\u001b[0mself\u001b[0m\u001b[1;33m,\u001b[0m \u001b[0mname\u001b[0m\u001b[1;33m:\u001b[0m \u001b[0mstr\u001b[0m\u001b[1;33m,\u001b[0m \u001b[0mvalue\u001b[0m\u001b[1;33m)\u001b[0m \u001b[1;33m->\u001b[0m \u001b[1;32mNone\u001b[0m\u001b[1;33m:\u001b[0m\u001b[1;33m\u001b[0m\u001b[1;33m\u001b[0m\u001b[0m\n",
      "\u001b[1;31mAttributeError\u001b[0m: 'Series' object has no attribute 'info'"
     ]
    }
   ],
   "source": [
    "#dfAge.value_counts()\n",
    "dfAge.info()"
   ]
  },
  {
   "cell_type": "code",
   "execution_count": null,
   "metadata": {},
   "outputs": [],
   "source": []
  },
  {
   "cell_type": "code",
   "execution_count": null,
   "metadata": {},
   "outputs": [],
   "source": []
  },
  {
   "cell_type": "code",
   "execution_count": null,
   "metadata": {},
   "outputs": [],
   "source": []
  },
  {
   "cell_type": "code",
   "execution_count": 143,
   "metadata": {
    "ExecuteTime": {
     "end_time": "2021-01-14T17:38:01.879572Z",
     "start_time": "2021-01-14T17:38:01.864569Z"
    }
   },
   "outputs": [],
   "source": [
    "TopAge = dfAge.value_counts().sort_values(ascending = False).head(20)"
   ]
  },
  {
   "cell_type": "code",
   "execution_count": 146,
   "metadata": {
    "ExecuteTime": {
     "end_time": "2021-01-14T17:38:53.687819Z",
     "start_time": "2021-01-14T17:38:53.673815Z"
    }
   },
   "outputs": [],
   "source": [
    "TopAge = TopAge.sort_index()"
   ]
  },
  {
   "cell_type": "code",
   "execution_count": 147,
   "metadata": {
    "ExecuteTime": {
     "end_time": "2021-01-14T17:38:55.114659Z",
     "start_time": "2021-01-14T17:38:54.979639Z"
    }
   },
   "outputs": [
    {
     "data": {
      "text/plain": [
       "<matplotlib.axes._subplots.AxesSubplot at 0x1eb93dffdc8>"
      ]
     },
     "execution_count": 147,
     "metadata": {},
     "output_type": "execute_result"
    },
    {
     "data": {
      "image/png": "[encoded data removed]",
      "text/plain": [
       "<Figure size 432x288 with 1 Axes>"
      ]
     },
     "metadata": {
      "needs_background": "light"
     },
     "output_type": "display_data"
    }
   ],
   "source": [
    "TopAge.plot.bar()"
   ]
  },
  {
   "cell_type": "code",
   "execution_count": null,
   "metadata": {},
   "outputs": [],
   "source": [
    "Dados por sexo"
   ]
  },
  {
   "cell_type": "code",
   "execution_count": 166,
   "metadata": {
    "ExecuteTime": {
     "end_time": "2021-01-12T02:04:07.144735Z",
     "start_time": "2021-01-12T02:04:07.121730Z"
    }
   },
   "outputs": [
    {
     "data": {
      "text/plain": [
       "Series([], Name: Sex , dtype: object)"
      ]
     },
     "execution_count": 166,
     "metadata": {},
     "output_type": "execute_result"
    }
   ],
   "source": [
    "#df_sub = df['Sex '].drop( df[(df['Sex ']!= 'M') | (df['Sex '] != 'F')].index)\n",
    "#df_sub"
   ]
  },
  {
   "cell_type": "code",
   "execution_count": 21,
   "metadata": {
    "ExecuteTime": {
     "end_time": "2021-01-14T02:15:20.223545Z",
     "start_time": "2021-01-14T02:15:20.209541Z"
    }
   },
   "outputs": [
    {
     "data": {
      "text/plain": [
       "Sex \n",
       "M      5094\n",
       "F       637\n",
       "N         2\n",
       "M         2\n",
       "lli       1\n",
       ".         1\n",
       "Name: Sex , dtype: int64"
      ]
     },
     "execution_count": 21,
     "metadata": {},
     "output_type": "execute_result"
    }
   ],
   "source": [
    "#Soma de grupos, e exclusao de valores diferentes de Masculino ou Feminino\n",
    "dfSex = df.groupby('Sex ')['Sex ']\n",
    "dfSex.count()\n",
    "dfSex= dfSex.size().sort_values(ascending = False).head(20)\n",
    "dfSex\n"
   ]
  },
  {
   "cell_type": "code",
   "execution_count": 22,
   "metadata": {
    "ExecuteTime": {
     "end_time": "2021-01-14T02:15:21.888238Z",
     "start_time": "2021-01-14T02:15:21.882237Z"
    }
   },
   "outputs": [
    {
     "data": {
      "text/plain": [
       "count       6.000000\n",
       "mean      956.166667\n",
       "std      2042.992258\n",
       "min         1.000000\n",
       "25%         1.250000\n",
       "50%         2.000000\n",
       "75%       478.250000\n",
       "max      5094.000000\n",
       "Name: Sex , dtype: float64"
      ]
     },
     "execution_count": 22,
     "metadata": {},
     "output_type": "execute_result"
    }
   ],
   "source": [
    "dfSex.describe()"
   ]
  },
  {
   "cell_type": "code",
   "execution_count": 23,
   "metadata": {
    "ExecuteTime": {
     "end_time": "2021-01-14T02:15:23.998152Z",
     "start_time": "2021-01-14T02:15:23.910131Z"
    }
   },
   "outputs": [
    {
     "data": {
      "text/plain": [
       "<matplotlib.axes._subplots.AxesSubplot at 0x157866337c8>"
      ]
     },
     "execution_count": 23,
     "metadata": {},
     "output_type": "execute_result"
    },
    {
     "data": {
      "image/png": "[encoded data removed]",
      "text/plain": [
       "<Figure size 432x288 with 1 Axes>"
      ]
     },
     "metadata": {
      "needs_background": "light"
     },
     "output_type": "display_data"
    }
   ],
   "source": [
    "dfSex.plot.bar()"
   ]
  },
  {
   "cell_type": "code",
   "execution_count": null,
   "metadata": {
    "ExecuteTime": {
     "end_time": "2021-01-12T01:44:46.557061Z",
     "start_time": "2021-01-12T01:44:46.526055Z"
    }
   },
   "outputs": [],
   "source": []
  },
  {
   "cell_type": "code",
   "execution_count": null,
   "metadata": {},
   "outputs": [],
   "source": [
    "Dados por ano"
   ]
  },
  {
   "cell_type": "code",
   "execution_count": 24,
   "metadata": {
    "ExecuteTime": {
     "end_time": "2021-01-14T02:15:30.895390Z",
     "start_time": "2021-01-14T02:15:30.566462Z"
    }
   },
   "outputs": [
    {
     "data": {
      "text/plain": [
       "<matplotlib.axes._subplots.AxesSubplot at 0x1578666b448>"
      ]
     },
     "execution_count": 24,
     "metadata": {},
     "output_type": "execute_result"
    },
    {
     "data": {
      "image/png": "[encoded data removed]",
      "text/plain": [
       "<Figure size 432x288 with 1 Axes>"
      ]
     },
     "metadata": {
      "needs_background": "light"
     },
     "output_type": "display_data"
    }
   ],
   "source": [
    "#Verificar os casos e numeros de ataques por ano. \n",
    "dfYears = df.groupby('Year', as_index=False).count()\n",
    "dfRecent = dfYears[dfYears['Year'] > 1900]\n",
    "dfRecent.plot.scatter(x = 'Year', y = 'Date')"
   ]
  },
  {
   "cell_type": "code",
   "execution_count": null,
   "metadata": {},
   "outputs": [],
   "source": []
  }
 ],
 "metadata": {
  "kernelspec": {
   "display_name": "Python 3",
   "language": "python",
   "name": "python3"
  },
  "language_info": {
   "codemirror_mode": {
    "name": "ipython",
    "version": 3
   },
   "file_extension": ".py",
   "mimetype": "text/x-python",
   "name": "python",
   "nbconvert_exporter": "python",
   "pygments_lexer": "ipython3",
   "version": "3.7.6"
  },
  "varInspector": {
   "cols": {
    "lenName": 16,
    "lenType": 16,
    "lenVar": 40
   },
   "kernels_config": {
    "python": {
     "delete_cmd_postfix": "",
     "delete_cmd_prefix": "del ",
     "library": "var_list.py",
     "varRefreshCmd": "print(var_dic_list())"
    },
    "r": {
     "delete_cmd_postfix": ") ",
     "delete_cmd_prefix": "rm(",
     "library": "var_list.r",
     "varRefreshCmd": "cat(var_dic_list()) "
    }
   },
   "types_to_exclude": [
    "module",
    "function",
    "builtin_function_or_method",
    "instance",
    "_Feature"
   ],
   "window_display": false
  }
 },
 "nbformat": 4,
 "nbformat_minor": 4
}
