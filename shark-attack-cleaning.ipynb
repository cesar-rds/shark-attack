{
 "cells": [
  {
   "cell_type": "markdown",
   "metadata": {
    "ExecuteTime": {
     "end_time": "2021-01-10T19:18:44.082898Z",
     "start_time": "2021-01-10T19:18:39.406559Z"
    }
   },
   "source": [
    "Importando bibliotecas"
   ]
  },
  {
   "cell_type": "code",
   "execution_count": 210,
   "metadata": {
    "ExecuteTime": {
     "end_time": "2021-01-15T20:16:58.365855Z",
     "start_time": "2021-01-15T20:16:58.352850Z"
    }
   },
   "outputs": [],
   "source": [
    "import pandas as pd\n",
    "import numpy as np\n",
    "import matplotlib.pyplot as plt\n",
    "import re"
   ]
  },
  {
   "cell_type": "markdown",
   "metadata": {
    "ExecuteTime": {
     "end_time": "2021-01-10T19:21:57.030573Z",
     "start_time": "2021-01-10T19:21:56.805510Z"
    }
   },
   "source": [
    "Lendo o arquivo de dados antes de limpeza"
   ]
  },
  {
   "cell_type": "code",
   "execution_count": 211,
   "metadata": {
    "ExecuteTime": {
     "end_time": "2021-01-15T20:17:00.007848Z",
     "start_time": "2021-01-15T20:16:59.631758Z"
    }
   },
   "outputs": [],
   "source": [
    "#importação de arquivo com dados para DataFrame\n",
    "data = pd.read_csv('data/attacks.csv', engine='python')"
   ]
  },
  {
   "cell_type": "code",
   "execution_count": 212,
   "metadata": {
    "ExecuteTime": {
     "end_time": "2021-01-15T20:17:00.908999Z",
     "start_time": "2021-01-15T20:17:00.899998Z"
    }
   },
   "outputs": [],
   "source": [
    "#criacao de backup para eventuais erros\n",
    "df = data"
   ]
  },
  {
   "cell_type": "code",
   "execution_count": 213,
   "metadata": {
    "ExecuteTime": {
     "end_time": "2021-01-15T20:17:02.505359Z",
     "start_time": "2021-01-15T20:17:02.468352Z"
    }
   },
   "outputs": [
    {
     "name": "stdout",
     "output_type": "stream",
     "text": [
      "<class 'pandas.core.frame.DataFrame'>\n",
      "RangeIndex: 25723 entries, 0 to 25722\n",
      "Data columns (total 24 columns):\n",
      " #   Column                  Non-Null Count  Dtype  \n",
      "---  ------                  --------------  -----  \n",
      " 0   Case Number             8702 non-null   object \n",
      " 1   Date                    6302 non-null   object \n",
      " 2   Year                    6300 non-null   float64\n",
      " 3   Type                    6298 non-null   object \n",
      " 4   Country                 6252 non-null   object \n",
      " 5   Area                    5847 non-null   object \n",
      " 6   Location                5762 non-null   object \n",
      " 7   Activity                5758 non-null   object \n",
      " 8   Name                    6092 non-null   object \n",
      " 9   Sex                     5737 non-null   object \n",
      " 10  Age                     3471 non-null   object \n",
      " 11  Injury                  6274 non-null   object \n",
      " 12  Fatal (Y/N)             5763 non-null   object \n",
      " 13  Time                    2948 non-null   object \n",
      " 14  Species                 3464 non-null   object \n",
      " 15  Investigator or Source  6285 non-null   object \n",
      " 16  pdf                     6302 non-null   object \n",
      " 17  href formula            6301 non-null   object \n",
      " 18  href                    6302 non-null   object \n",
      " 19  Case Number.1           6302 non-null   object \n",
      " 20  Case Number.2           6302 non-null   object \n",
      " 21  original order          6309 non-null   float64\n",
      " 22  Unnamed: 22             1 non-null      object \n",
      " 23  Unnamed: 23             2 non-null      object \n",
      "dtypes: float64(2), object(22)\n",
      "memory usage: 4.7+ MB\n"
     ]
    }
   ],
   "source": [
    "#Tipos de dados por coluna e a existencia de nulos\n",
    "df.info()"
   ]
  },
  {
   "cell_type": "code",
   "execution_count": 214,
   "metadata": {
    "ExecuteTime": {
     "end_time": "2021-01-15T20:17:05.213033Z",
     "start_time": "2021-01-15T20:17:05.199031Z"
    }
   },
   "outputs": [
    {
     "data": {
      "text/plain": [
       "(25723, 24)"
      ]
     },
     "execution_count": 214,
     "metadata": {},
     "output_type": "execute_result"
    }
   ],
   "source": [
    "#Tamanho do DataFrame antes da limpeza\n",
    "df.shape"
   ]
  },
  {
   "cell_type": "code",
   "execution_count": 215,
   "metadata": {
    "ExecuteTime": {
     "end_time": "2021-01-15T20:17:06.944328Z",
     "start_time": "2021-01-15T20:17:06.921322Z"
    }
   },
   "outputs": [
    {
     "data": {
      "text/html": [
       "<div>\n",
       "<style scoped>\n",
       "    .dataframe tbody tr th:only-of-type {\n",
       "        vertical-align: middle;\n",
       "    }\n",
       "\n",
       "    .dataframe tbody tr th {\n",
       "        vertical-align: top;\n",
       "    }\n",
       "\n",
       "    .dataframe thead th {\n",
       "        text-align: right;\n",
       "    }\n",
       "</style>\n",
       "<table border=\"1\" class=\"dataframe\">\n",
       "  <thead>\n",
       "    <tr style=\"text-align: right;\">\n",
       "      <th></th>\n",
       "      <th>Case Number</th>\n",
       "      <th>Date</th>\n",
       "      <th>Year</th>\n",
       "      <th>Type</th>\n",
       "      <th>Country</th>\n",
       "      <th>Area</th>\n",
       "      <th>Location</th>\n",
       "      <th>Activity</th>\n",
       "      <th>Name</th>\n",
       "      <th>Sex</th>\n",
       "      <th>...</th>\n",
       "      <th>Species</th>\n",
       "      <th>Investigator or Source</th>\n",
       "      <th>pdf</th>\n",
       "      <th>href formula</th>\n",
       "      <th>href</th>\n",
       "      <th>Case Number.1</th>\n",
       "      <th>Case Number.2</th>\n",
       "      <th>original order</th>\n",
       "      <th>Unnamed: 22</th>\n",
       "      <th>Unnamed: 23</th>\n",
       "    </tr>\n",
       "  </thead>\n",
       "  <tbody>\n",
       "    <tr>\n",
       "      <th>0</th>\n",
       "      <td>2018.06.25</td>\n",
       "      <td>25-Jun-2018</td>\n",
       "      <td>2018.0</td>\n",
       "      <td>Boating</td>\n",
       "      <td>USA</td>\n",
       "      <td>California</td>\n",
       "      <td>Oceanside, San Diego County</td>\n",
       "      <td>Paddling</td>\n",
       "      <td>Julie Wolfe</td>\n",
       "      <td>F</td>\n",
       "      <td>...</td>\n",
       "      <td>White shark</td>\n",
       "      <td>R. Collier, GSAF</td>\n",
       "      <td>2018.06.25-Wolfe.pdf</td>\n",
       "      <td>http://sharkattackfile.net/spreadsheets/pdf_di...</td>\n",
       "      <td>http://sharkattackfile.net/spreadsheets/pdf_di...</td>\n",
       "      <td>2018.06.25</td>\n",
       "      <td>2018.06.25</td>\n",
       "      <td>6303.0</td>\n",
       "      <td>NaN</td>\n",
       "      <td>NaN</td>\n",
       "    </tr>\n",
       "    <tr>\n",
       "      <th>1</th>\n",
       "      <td>2018.06.18</td>\n",
       "      <td>18-Jun-2018</td>\n",
       "      <td>2018.0</td>\n",
       "      <td>Unprovoked</td>\n",
       "      <td>USA</td>\n",
       "      <td>Georgia</td>\n",
       "      <td>St. Simon Island, Glynn County</td>\n",
       "      <td>Standing</td>\n",
       "      <td>Adyson McNeely</td>\n",
       "      <td>F</td>\n",
       "      <td>...</td>\n",
       "      <td>NaN</td>\n",
       "      <td>K.McMurray, TrackingSharks.com</td>\n",
       "      <td>2018.06.18-McNeely.pdf</td>\n",
       "      <td>http://sharkattackfile.net/spreadsheets/pdf_di...</td>\n",
       "      <td>http://sharkattackfile.net/spreadsheets/pdf_di...</td>\n",
       "      <td>2018.06.18</td>\n",
       "      <td>2018.06.18</td>\n",
       "      <td>6302.0</td>\n",
       "      <td>NaN</td>\n",
       "      <td>NaN</td>\n",
       "    </tr>\n",
       "    <tr>\n",
       "      <th>2</th>\n",
       "      <td>2018.06.09</td>\n",
       "      <td>09-Jun-2018</td>\n",
       "      <td>2018.0</td>\n",
       "      <td>Invalid</td>\n",
       "      <td>USA</td>\n",
       "      <td>Hawaii</td>\n",
       "      <td>Habush, Oahu</td>\n",
       "      <td>Surfing</td>\n",
       "      <td>John Denges</td>\n",
       "      <td>M</td>\n",
       "      <td>...</td>\n",
       "      <td>NaN</td>\n",
       "      <td>K.McMurray, TrackingSharks.com</td>\n",
       "      <td>2018.06.09-Denges.pdf</td>\n",
       "      <td>http://sharkattackfile.net/spreadsheets/pdf_di...</td>\n",
       "      <td>http://sharkattackfile.net/spreadsheets/pdf_di...</td>\n",
       "      <td>2018.06.09</td>\n",
       "      <td>2018.06.09</td>\n",
       "      <td>6301.0</td>\n",
       "      <td>NaN</td>\n",
       "      <td>NaN</td>\n",
       "    </tr>\n",
       "    <tr>\n",
       "      <th>3</th>\n",
       "      <td>2018.06.08</td>\n",
       "      <td>08-Jun-2018</td>\n",
       "      <td>2018.0</td>\n",
       "      <td>Unprovoked</td>\n",
       "      <td>AUSTRALIA</td>\n",
       "      <td>New South Wales</td>\n",
       "      <td>Arrawarra Headland</td>\n",
       "      <td>Surfing</td>\n",
       "      <td>male</td>\n",
       "      <td>M</td>\n",
       "      <td>...</td>\n",
       "      <td>2 m shark</td>\n",
       "      <td>B. Myatt, GSAF</td>\n",
       "      <td>2018.06.08-Arrawarra.pdf</td>\n",
       "      <td>http://sharkattackfile.net/spreadsheets/pdf_di...</td>\n",
       "      <td>http://sharkattackfile.net/spreadsheets/pdf_di...</td>\n",
       "      <td>2018.06.08</td>\n",
       "      <td>2018.06.08</td>\n",
       "      <td>6300.0</td>\n",
       "      <td>NaN</td>\n",
       "      <td>NaN</td>\n",
       "    </tr>\n",
       "    <tr>\n",
       "      <th>4</th>\n",
       "      <td>2018.06.04</td>\n",
       "      <td>04-Jun-2018</td>\n",
       "      <td>2018.0</td>\n",
       "      <td>Provoked</td>\n",
       "      <td>MEXICO</td>\n",
       "      <td>Colima</td>\n",
       "      <td>La Ticla</td>\n",
       "      <td>Free diving</td>\n",
       "      <td>Gustavo Ramos</td>\n",
       "      <td>M</td>\n",
       "      <td>...</td>\n",
       "      <td>Tiger shark, 3m</td>\n",
       "      <td>A .Kipper</td>\n",
       "      <td>2018.06.04-Ramos.pdf</td>\n",
       "      <td>http://sharkattackfile.net/spreadsheets/pdf_di...</td>\n",
       "      <td>http://sharkattackfile.net/spreadsheets/pdf_di...</td>\n",
       "      <td>2018.06.04</td>\n",
       "      <td>2018.06.04</td>\n",
       "      <td>6299.0</td>\n",
       "      <td>NaN</td>\n",
       "      <td>NaN</td>\n",
       "    </tr>\n",
       "  </tbody>\n",
       "</table>\n",
       "<p>5 rows × 24 columns</p>\n",
       "</div>"
      ],
      "text/plain": [
       "  Case Number         Date    Year        Type    Country             Area  \\\n",
       "0  2018.06.25  25-Jun-2018  2018.0     Boating        USA       California   \n",
       "1  2018.06.18  18-Jun-2018  2018.0  Unprovoked        USA          Georgia   \n",
       "2  2018.06.09  09-Jun-2018  2018.0     Invalid        USA           Hawaii   \n",
       "3  2018.06.08  08-Jun-2018  2018.0  Unprovoked  AUSTRALIA  New South Wales   \n",
       "4  2018.06.04  04-Jun-2018  2018.0    Provoked     MEXICO           Colima   \n",
       "\n",
       "                         Location     Activity             Name Sex   ...  \\\n",
       "0     Oceanside, San Diego County     Paddling      Julie Wolfe    F  ...   \n",
       "1  St. Simon Island, Glynn County     Standing  Adyson McNeely     F  ...   \n",
       "2                    Habush, Oahu      Surfing      John Denges    M  ...   \n",
       "3              Arrawarra Headland      Surfing             male    M  ...   \n",
       "4                        La Ticla  Free diving   Gustavo Ramos     M  ...   \n",
       "\n",
       "          Species           Investigator or Source                       pdf  \\\n",
       "0      White shark                R. Collier, GSAF      2018.06.25-Wolfe.pdf   \n",
       "1              NaN  K.McMurray, TrackingSharks.com    2018.06.18-McNeely.pdf   \n",
       "2              NaN  K.McMurray, TrackingSharks.com     2018.06.09-Denges.pdf   \n",
       "3        2 m shark                  B. Myatt, GSAF  2018.06.08-Arrawarra.pdf   \n",
       "4  Tiger shark, 3m                       A .Kipper      2018.06.04-Ramos.pdf   \n",
       "\n",
       "                                        href formula  \\\n",
       "0  http://sharkattackfile.net/spreadsheets/pdf_di...   \n",
       "1  http://sharkattackfile.net/spreadsheets/pdf_di...   \n",
       "2  http://sharkattackfile.net/spreadsheets/pdf_di...   \n",
       "3  http://sharkattackfile.net/spreadsheets/pdf_di...   \n",
       "4  http://sharkattackfile.net/spreadsheets/pdf_di...   \n",
       "\n",
       "                                                href Case Number.1  \\\n",
       "0  http://sharkattackfile.net/spreadsheets/pdf_di...    2018.06.25   \n",
       "1  http://sharkattackfile.net/spreadsheets/pdf_di...    2018.06.18   \n",
       "2  http://sharkattackfile.net/spreadsheets/pdf_di...    2018.06.09   \n",
       "3  http://sharkattackfile.net/spreadsheets/pdf_di...    2018.06.08   \n",
       "4  http://sharkattackfile.net/spreadsheets/pdf_di...    2018.06.04   \n",
       "\n",
       "  Case Number.2 original order Unnamed: 22 Unnamed: 23  \n",
       "0    2018.06.25         6303.0         NaN         NaN  \n",
       "1    2018.06.18         6302.0         NaN         NaN  \n",
       "2    2018.06.09         6301.0         NaN         NaN  \n",
       "3    2018.06.08         6300.0         NaN         NaN  \n",
       "4    2018.06.04         6299.0         NaN         NaN  \n",
       "\n",
       "[5 rows x 24 columns]"
      ]
     },
     "execution_count": 215,
     "metadata": {},
     "output_type": "execute_result"
    }
   ],
   "source": [
    "df.head()"
   ]
  },
  {
   "cell_type": "code",
   "execution_count": 216,
   "metadata": {
    "ExecuteTime": {
     "end_time": "2021-01-15T20:17:09.939730Z",
     "start_time": "2021-01-15T20:17:09.902721Z"
    }
   },
   "outputs": [
    {
     "data": {
      "text/plain": [
       "Case Number               17021\n",
       "Date                      19421\n",
       "Year                      19423\n",
       "Type                      19425\n",
       "Country                   19471\n",
       "Area                      19876\n",
       "Location                  19961\n",
       "Activity                  19965\n",
       "Name                      19631\n",
       "Sex                       19986\n",
       "Age                       22252\n",
       "Injury                    19449\n",
       "Fatal (Y/N)               19960\n",
       "Time                      22775\n",
       "Species                   22259\n",
       "Investigator or Source    19438\n",
       "pdf                       19421\n",
       "href formula              19422\n",
       "href                      19421\n",
       "Case Number.1             19421\n",
       "Case Number.2             19421\n",
       "original order            19414\n",
       "Unnamed: 22               25722\n",
       "Unnamed: 23               25721\n",
       "dtype: int64"
      ]
     },
     "execution_count": 216,
     "metadata": {},
     "output_type": "execute_result"
    }
   ],
   "source": [
    "#Verifiando a quantidade de nulos por coluna antes de limpeza\n",
    "df.isnull().sum()"
   ]
  },
  {
   "cell_type": "code",
   "execution_count": 217,
   "metadata": {
    "ExecuteTime": {
     "end_time": "2021-01-15T20:17:12.287214Z",
     "start_time": "2021-01-15T20:17:12.271210Z"
    }
   },
   "outputs": [
    {
     "data": {
      "text/plain": [
       "Index(['Case Number', 'Date', 'Year', 'Type', 'Country', 'Area', 'Location',\n",
       "       'Activity', 'Name', 'Sex ', 'Age', 'Injury', 'Fatal (Y/N)', 'Time',\n",
       "       'Species ', 'Investigator or Source', 'pdf', 'href formula', 'href',\n",
       "       'Case Number.1', 'Case Number.2', 'original order', 'Unnamed: 22',\n",
       "       'Unnamed: 23'],\n",
       "      dtype='object')"
      ]
     },
     "execution_count": 217,
     "metadata": {},
     "output_type": "execute_result"
    }
   ],
   "source": [
    "#Nome das colunas\n",
    "df.columns"
   ]
  },
  {
   "cell_type": "code",
   "execution_count": 218,
   "metadata": {
    "ExecuteTime": {
     "end_time": "2021-01-15T20:17:14.373194Z",
     "start_time": "2021-01-15T20:17:14.364191Z"
    }
   },
   "outputs": [],
   "source": [
    "#retirando os espacos dos nomes das colunas\n",
    "df.columns = df.columns.str.strip()"
   ]
  },
  {
   "cell_type": "code",
   "execution_count": 219,
   "metadata": {
    "ExecuteTime": {
     "end_time": "2021-01-15T20:17:16.436229Z",
     "start_time": "2021-01-15T20:17:16.418225Z"
    }
   },
   "outputs": [],
   "source": [
    "#retirando colunas que nao servirão para análise\n",
    "#números de nulos praticamente semelhante ao numero de linhas, nao possui informacoes importantes.\n",
    "df = df.drop(['Activity','Case Number','Area', 'Location','Name','Injury', 'Species', 'Investigator or Source', 'pdf','href formula', 'href','Case Number.1','Case Number.2','original order','Unnamed: 22','Unnamed: 23'], axis=1)"
   ]
  },
  {
   "cell_type": "code",
   "execution_count": 220,
   "metadata": {
    "ExecuteTime": {
     "end_time": "2021-01-15T20:17:18.543308Z",
     "start_time": "2021-01-15T20:17:18.526305Z"
    }
   },
   "outputs": [],
   "source": [
    "#elimina as linhas que todos os elementos são nulos\n",
    "df = df.dropna(axis=0, how='all')"
   ]
  },
  {
   "cell_type": "code",
   "execution_count": 221,
   "metadata": {
    "ExecuteTime": {
     "end_time": "2021-01-15T20:17:20.575356Z",
     "start_time": "2021-01-15T20:17:20.553353Z"
    }
   },
   "outputs": [],
   "source": [
    "#Retirando todos os valores diferentes do padrão dd-mmm-aaaa\n",
    "df['Date'] = df['Date'].str.extract(r'(\\d{2}-\\w{3}-\\d{4})')"
   ]
  },
  {
   "cell_type": "code",
   "execution_count": 222,
   "metadata": {
    "ExecuteTime": {
     "end_time": "2021-01-15T20:17:22.139307Z",
     "start_time": "2021-01-15T20:17:22.121303Z"
    }
   },
   "outputs": [],
   "source": [
    "#Retirando valores nulos que ficaram\n",
    "df.dropna(subset=['Date'], inplace=True)"
   ]
  },
  {
   "cell_type": "code",
   "execution_count": 223,
   "metadata": {
    "ExecuteTime": {
     "end_time": "2021-01-15T20:17:23.523374Z",
     "start_time": "2021-01-15T20:17:23.505370Z"
    }
   },
   "outputs": [],
   "source": [
    "#Retirando valores nulos que ficaram\n",
    "df.dropna(subset=['Year'], inplace=True)"
   ]
  },
  {
   "cell_type": "code",
   "execution_count": 224,
   "metadata": {
    "ExecuteTime": {
     "end_time": "2021-01-15T20:17:25.166411Z",
     "start_time": "2021-01-15T20:17:25.155408Z"
    }
   },
   "outputs": [
    {
     "data": {
      "text/plain": [
       "Date           object\n",
       "Year            int64\n",
       "Type           object\n",
       "Country        object\n",
       "Sex            object\n",
       "Age            object\n",
       "Fatal (Y/N)    object\n",
       "Time           object\n",
       "dtype: object"
      ]
     },
     "execution_count": 224,
     "metadata": {},
     "output_type": "execute_result"
    }
   ],
   "source": [
    "#Alterando para int. Incluir dados a partir de 1900 no momento da análise\n",
    "#df['Year'].unique()\n",
    "df.astype({'Year': 'int64'}).dtypes"
   ]
  },
  {
   "cell_type": "code",
   "execution_count": 225,
   "metadata": {
    "ExecuteTime": {
     "end_time": "2021-01-15T20:17:27.838723Z",
     "start_time": "2021-01-15T20:17:27.819719Z"
    }
   },
   "outputs": [],
   "source": [
    "#removendo dados muito antigos e deixando a partir de 1900\n",
    "df_remove = df.loc[(df['Year'] < 1900)]\n",
    "df = df.drop(df_remove.index)"
   ]
  },
  {
   "cell_type": "code",
   "execution_count": 226,
   "metadata": {
    "ExecuteTime": {
     "end_time": "2021-01-15T20:17:30.595588Z",
     "start_time": "2021-01-15T20:17:30.581585Z"
    }
   },
   "outputs": [
    {
     "data": {
      "text/plain": [
       "array(['Boating', 'Unprovoked', 'Invalid', 'Provoked', 'Questionable',\n",
       "       'Sea Disaster', nan, 'Boat', 'Boatomg'], dtype=object)"
      ]
     },
     "execution_count": 226,
     "metadata": {},
     "output_type": "execute_result"
    }
   ],
   "source": [
    "#'Sea Disaster,'Boating','Boatomg','Boat' alterar estes para um unico modelo ('Boating'), e retirar os nulos\n",
    "df['Type'].unique()"
   ]
  },
  {
   "cell_type": "code",
   "execution_count": 227,
   "metadata": {
    "ExecuteTime": {
     "end_time": "2021-01-15T20:17:32.917121Z",
     "start_time": "2021-01-15T20:17:32.897118Z"
    }
   },
   "outputs": [],
   "source": [
    "#Retirando os nulos\n",
    "df.dropna(subset=['Type'], inplace=True)"
   ]
  },
  {
   "cell_type": "code",
   "execution_count": 228,
   "metadata": {
    "ExecuteTime": {
     "end_time": "2021-01-15T20:17:35.341304Z",
     "start_time": "2021-01-15T20:17:35.331302Z"
    }
   },
   "outputs": [],
   "source": [
    "#Fazendo as substituicoes\n",
    "df.Type=df.Type.replace({'Sea Disaster': 'Boating','Boat': 'Boating','Boatomg': 'Boating'})"
   ]
  },
  {
   "cell_type": "code",
   "execution_count": 229,
   "metadata": {
    "ExecuteTime": {
     "end_time": "2021-01-15T20:17:37.316622Z",
     "start_time": "2021-01-15T20:17:37.296617Z"
    }
   },
   "outputs": [
    {
     "data": {
      "text/plain": [
       "Date              0\n",
       "Year              0\n",
       "Type              0\n",
       "Country          11\n",
       "Sex             390\n",
       "Age            1709\n",
       "Fatal (Y/N)     403\n",
       "Time           2149\n",
       "dtype: int64"
      ]
     },
     "execution_count": 229,
     "metadata": {},
     "output_type": "execute_result"
    }
   ],
   "source": [
    "#Verificando os nulos após alteração\n",
    "df.isnull().sum()"
   ]
  },
  {
   "cell_type": "code",
   "execution_count": 230,
   "metadata": {
    "ExecuteTime": {
     "end_time": "2021-01-15T20:17:40.054632Z",
     "start_time": "2021-01-15T20:17:40.042628Z"
    }
   },
   "outputs": [
    {
     "data": {
      "text/plain": [
       "array(['USA', 'AUSTRALIA', 'MEXICO', 'BRAZIL', 'ENGLAND', 'SOUTH AFRICA',\n",
       "       'THAILAND', 'COSTA RICA', 'MALDIVES', 'BAHAMAS', 'NEW CALEDONIA',\n",
       "       'ECUADOR', 'MALAYSIA', 'LIBYA', nan, 'CUBA', 'MAURITIUS',\n",
       "       'NEW ZEALAND', 'SPAIN', 'SOLOMON ISLANDS', 'JAPAN', 'EGYPT',\n",
       "       'ST HELENA, British overseas territory', 'COMOROS', 'REUNION',\n",
       "       'UNITED KINGDOM', 'UNITED ARAB EMIRATES', 'PHILIPPINES',\n",
       "       'INDONESIA', 'FRENCH POLYNESIA', 'CHINA', 'COLUMBIA', 'CAPE VERDE',\n",
       "       'Fiji', 'DOMINICAN REPUBLIC', 'CAYMAN ISLANDS', 'ARUBA',\n",
       "       'MOZAMBIQUE', 'PUERTO RICO', 'ITALY', 'ATLANTIC OCEAN', 'GREECE',\n",
       "       'ST. MARTIN', 'FRANCE', 'PAPUA NEW GUINEA', 'TRINIDAD & TOBAGO',\n",
       "       'KIRIBATI', 'ISRAEL', 'DIEGO GARCIA', 'TAIWAN', 'JAMAICA',\n",
       "       'PALESTINIAN TERRITORIES', 'GUAM', 'SEYCHELLES', 'BELIZE',\n",
       "       'NIGERIA', 'TONGA', 'SCOTLAND', 'CANADA', 'CROATIA', 'FIJI',\n",
       "       'SAUDI ARABIA', 'CHILE', 'ANTIGUA', 'KENYA', 'RUSSIA',\n",
       "       'TURKS & CAICOS', 'UNITED ARAB EMIRATES (UAE)', 'SAMOA', 'AZORES',\n",
       "       'SOUTH KOREA', 'MALTA', 'VIETNAM', 'MADAGASCAR', 'PANAMA',\n",
       "       'SOMALIA', 'NEVIS', 'BRITISH VIRGIN ISLANDS', 'NORWAY', 'YEMEN',\n",
       "       'Sierra Leone', 'ST. MAARTIN', 'GRAND CAYMAN', 'LIBERIA',\n",
       "       'VANUATU', 'MEXICO ', 'HONDURAS', 'VENEZUELA', 'SRI LANKA',\n",
       "       ' TONGA', 'URUGUAY', 'INDIA', 'MICRONESIA', 'OKINAWA', 'TANZANIA',\n",
       "       'MARSHALL ISLANDS', 'EGYPT / ISRAEL', 'NORTHERN ARABIAN SEA',\n",
       "       'HONG KONG', 'EL SALVADOR', 'CARIBBEAN SEA', 'BERMUDA', 'NAMIBIA',\n",
       "       'PORTUGAL', 'SOUTH CHINA SEA', 'WESTERN SAMOA', 'PACIFIC OCEAN ',\n",
       "       'BRITISH ISLES', 'PALAU', 'GRENADA', 'TURKEY', 'SINGAPORE',\n",
       "       'NEW BRITAIN', 'SUDAN', 'JOHNSTON ISLAND', 'NEW GUINEA',\n",
       "       'NORTH PACIFIC OCEAN', 'FEDERATED STATES OF MICRONESIA',\n",
       "       'ADMIRALTY ISLANDS', 'BRITISH WEST INDIES', 'SOUTH ATLANTIC OCEAN',\n",
       "       'MID ATLANTIC OCEAN', 'PERSIAN GULF', 'PACIFIC OCEAN', 'SENEGAL',\n",
       "       'NORTH SEA', 'AMERICAN SAMOA', 'ANDAMAN / NICOBAR ISLANDAS',\n",
       "       'GABON', 'MONTENEGRO', 'THE BALKANS', 'ARGENTINA', 'GUATEMALA',\n",
       "       'NETHERLANDS ANTILLES', 'NORTH ATLANTIC OCEAN', 'IRAN',\n",
       "       'NORTHERN MARIANA ISLANDS', 'IRAN / IRAQ', 'SIERRA LEONE',\n",
       "       ' PHILIPPINES', 'CENTRAL PACIFIC', 'INDIAN OCEAN',\n",
       "       'SOLOMON ISLANDS / VANUATU', 'SOUTHWEST PACIFIC OCEAN',\n",
       "       'BAY OF BENGAL', 'NICARAGUA', 'IRAQ', 'ICELAND', 'ITALY / CROATIA',\n",
       "       'BARBADOS', 'GUYANA', 'HAITI', 'IRELAND', 'KUWAIT', 'TUNISIA',\n",
       "       'YEMEN ', 'CYPRUS'], dtype=object)"
      ]
     },
     "execution_count": 230,
     "metadata": {},
     "output_type": "execute_result"
    }
   ],
   "source": [
    "#verificando os dados da coluna\n",
    "df['Country'].unique()"
   ]
  },
  {
   "cell_type": "code",
   "execution_count": 231,
   "metadata": {
    "ExecuteTime": {
     "end_time": "2021-01-15T20:17:44.022668Z",
     "start_time": "2021-01-15T20:17:44.007665Z"
    }
   },
   "outputs": [],
   "source": [
    "#Retirando os nulos\n",
    "df.dropna(subset=['Country'], inplace=True)"
   ]
  },
  {
   "cell_type": "code",
   "execution_count": 232,
   "metadata": {
    "ExecuteTime": {
     "end_time": "2021-01-15T20:18:08.451202Z",
     "start_time": "2021-01-15T20:18:08.439198Z"
    }
   },
   "outputs": [],
   "source": [
    "#Retirando os espacos e deixando todas letras maiusculas\n",
    "df.Country = df.Country.str.strip()\n",
    "df.Country = df.Country.str.upper()"
   ]
  },
  {
   "cell_type": "code",
   "execution_count": 233,
   "metadata": {
    "ExecuteTime": {
     "end_time": "2021-01-15T20:18:14.815191Z",
     "start_time": "2021-01-15T20:18:14.804189Z"
    }
   },
   "outputs": [
    {
     "data": {
      "text/plain": [
       "array(['F', 'M', nan, 'M ', 'lli', 'N', '.'], dtype=object)"
      ]
     },
     "execution_count": 233,
     "metadata": {},
     "output_type": "execute_result"
    }
   ],
   "source": [
    "#Retirar espacos, nulos e informacoes diferentes de F ou M\n",
    "df['Sex'].unique()"
   ]
  },
  {
   "cell_type": "code",
   "execution_count": 234,
   "metadata": {
    "ExecuteTime": {
     "end_time": "2021-01-15T20:18:18.272844Z",
     "start_time": "2021-01-15T20:18:18.255841Z"
    }
   },
   "outputs": [],
   "source": [
    "#Fazendo as alterações, deixando as strings invalidas para \n",
    "df.Sex =df.Sex .replace({'M ': 'M','lli': 1,'N': 1, '.': 1})"
   ]
  },
  {
   "cell_type": "code",
   "execution_count": 235,
   "metadata": {
    "ExecuteTime": {
     "end_time": "2021-01-15T20:18:20.623261Z",
     "start_time": "2021-01-15T20:18:20.606257Z"
    }
   },
   "outputs": [],
   "source": [
    "df['Sex'] = df['Sex'].str.extract(r'(\\w*)')"
   ]
  },
  {
   "cell_type": "code",
   "execution_count": 236,
   "metadata": {
    "ExecuteTime": {
     "end_time": "2021-01-15T20:18:23.104286Z",
     "start_time": "2021-01-15T20:18:23.092283Z"
    }
   },
   "outputs": [],
   "source": [
    "df.dropna(subset=['Sex'], inplace=True)"
   ]
  },
  {
   "cell_type": "code",
   "execution_count": 238,
   "metadata": {
    "ExecuteTime": {
     "end_time": "2021-01-15T20:18:29.250062Z",
     "start_time": "2021-01-15T20:18:29.241061Z"
    }
   },
   "outputs": [
    {
     "data": {
      "text/plain": [
       "M    3950\n",
       "F     548\n",
       "Name: Sex, dtype: int64"
      ]
     },
     "execution_count": 238,
     "metadata": {},
     "output_type": "execute_result"
    }
   ],
   "source": [
    "df['Sex'].value_counts()"
   ]
  },
  {
   "cell_type": "code",
   "execution_count": 239,
   "metadata": {
    "ExecuteTime": {
     "end_time": "2021-01-15T20:18:35.662543Z",
     "start_time": "2021-01-15T20:18:35.656542Z"
    }
   },
   "outputs": [
    {
     "data": {
      "text/plain": [
       "array(['57', '11', '48', nan, '18', '52', '15', '12', '32', '10', '21',\n",
       "       '30', '60', '33', '29', '54', '34', '41', '37', '56', '19', '25',\n",
       "       '38', '55', '35', '46', '45', '14', '40s', '28', '20', '24', '26',\n",
       "       '49', '22', '7', '31', '17', '40', '13', '42', '3', '69', '8',\n",
       "       '50', '16', '82', '73', '20s', '68', '51', '39', '58', 'Teen',\n",
       "       '47', '61', '65', '36', '66', '43', '60s', '9', '72', '59', '6',\n",
       "       '27', '64', '23', '71', '44', '62', '63', '70', '18 months', '53',\n",
       "       '30s', '50s', 'teen', '77', '74', '28 & 26', '5', '86', '18 or 20',\n",
       "       '12 or 13', '46 & 34', '28, 23 & 30', 'Teens', '8 or 10', '84',\n",
       "       '\\xa0 ', ' ', '30 or 36', '6½', '21 & ?', '75', '33 or 37',\n",
       "       'mid-30s', '23 & 20', ' 30', '7      &    31', ' 28', '20?',\n",
       "       '32 & 30', '16 to 18', '87', '67', 'Elderly', 'mid-20s', '74 ',\n",
       "       '45 ', '21 or 26', '20 ', '>50', '18 to 22', 'adult', '? & 19',\n",
       "       '(adult)', '33 & 37', '25 or 28', '37, 67, 35, 27,  ? & 27',\n",
       "       '21, 34,24 & 35', '30 & 32', '17 & 35', 'X', '13 or 18', '33 & 26',\n",
       "       ' 43', '81', '\"young\"', 'F', 'Both 11', '9 or 10', 'young',\n",
       "       '36 & 23', '  ', '78', 'A.M.', '?    &   14', '10 or 12',\n",
       "       '31 or 33'], dtype=object)"
      ]
     },
     "execution_count": 239,
     "metadata": {},
     "output_type": "execute_result"
    }
   ],
   "source": [
    "#retirar espacos, nulos, caracteres, strings\n",
    "df['Age'].unique()"
   ]
  },
  {
   "cell_type": "code",
   "execution_count": 240,
   "metadata": {
    "ExecuteTime": {
     "end_time": "2021-01-15T20:18:57.009836Z",
     "start_time": "2021-01-15T20:18:56.979829Z"
    }
   },
   "outputs": [],
   "source": [
    "#Trocando as informacoes \n",
    "df.Age = df.Age.replace({'60s':'60', '18 months':'1','30s':'30','40s':'40', '50s':'50', '28 & 26':'27', '18 or 20': '19',\n",
    "       '12 or 13':'13', '46 & 34':'46', '28, 23 & 30': '28', '8 or 10':'9',\n",
    "       '\\xa0 ':'18', ' ':'18', '30 or 36':'33', '6½':'6', '21 & ?':'21', '33 or 37':'34',\n",
    "       'mid-30s':'30', '23 & 20':'23', '7      &    31':'31','Teen':'10','teen':'10','Teens':'10', ' 28':'28', '20?':'20',\n",
    "       '32 & 30':'30', '16 to 18':'18', 'Elderly':'70', 'mid-20s':'20', '74 ':'74',\n",
    "       '45 ':'45', '21 or 26':'24', '20 ':'20', '>50':'51', '18 to 22':'20', 'adult':'25', '? & 19':'19',\n",
    "       '(adult)':'25', '33 & 37':'34', '25 or 28':'26', '37, 67, 35, 27,  ? & 27':'35',\n",
    "       '21, 34,24 & 35':'35', '30 & 32':'31', '17 & 35':'28', 'X':'10', '13 or 18':'16', '33 & 26':'25',\n",
    "       ' 43':'43', '\"young\"':'16', 'F':'18', 'Both 11':'11', '9 or 10':'10', 'young':'16',\n",
    "       '36 & 23':'30', '  ':'18', 'A.M.':'18', '?    &   14':'14','20s':'20', '10 or 12':'11',' 30':'30',\n",
    "       '31 or 33':'32', '2½':'2', '1':'1'})"
   ]
  },
  {
   "cell_type": "code",
   "execution_count": 241,
   "metadata": {
    "ExecuteTime": {
     "end_time": "2021-01-15T20:19:00.642255Z",
     "start_time": "2021-01-15T20:19:00.631254Z"
    }
   },
   "outputs": [
    {
     "data": {
      "text/plain": [
       "array(['57', '11', '48', nan, '18', '52', '15', '12', '32', '10', '21',\n",
       "       '30', '60', '33', '29', '54', '34', '41', '37', '56', '19', '25',\n",
       "       '38', '55', '35', '46', '45', '14', '40', '28', '20', '24', '26',\n",
       "       '49', '22', '7', '31', '17', '13', '42', '3', '69', '8', '50',\n",
       "       '16', '82', '73', '68', '51', '39', '58', '47', '61', '65', '36',\n",
       "       '66', '43', '9', '72', '59', '6', '27', '64', '23', '71', '44',\n",
       "       '62', '63', '70', '1', '53', '77', '74', '5', '86', '84', '75',\n",
       "       '87', '67', '81', '78'], dtype=object)"
      ]
     },
     "execution_count": 241,
     "metadata": {},
     "output_type": "execute_result"
    }
   ],
   "source": [
    "df['Age'].unique()"
   ]
  },
  {
   "cell_type": "code",
   "execution_count": 242,
   "metadata": {
    "ExecuteTime": {
     "end_time": "2021-01-15T20:19:07.353052Z",
     "start_time": "2021-01-15T20:19:07.342049Z"
    }
   },
   "outputs": [
    {
     "data": {
      "text/plain": [
       "Date            object\n",
       "Year           float64\n",
       "Type            object\n",
       "Country         object\n",
       "Sex             object\n",
       "Age            float64\n",
       "Fatal (Y/N)     object\n",
       "Time            object\n",
       "dtype: object"
      ]
     },
     "execution_count": 242,
     "metadata": {},
     "output_type": "execute_result"
    }
   ],
   "source": [
    "df.astype({'Age': 'float64'}).dtypes"
   ]
  },
  {
   "cell_type": "code",
   "execution_count": 243,
   "metadata": {
    "ExecuteTime": {
     "end_time": "2021-01-15T20:19:10.524063Z",
     "start_time": "2021-01-15T20:19:10.505059Z"
    }
   },
   "outputs": [],
   "source": [
    "#Alterando informacoes nulas de idade, por nao informado\n",
    "df.update(df['Age'].fillna(\"Não informada\"))"
   ]
  },
  {
   "cell_type": "code",
   "execution_count": 244,
   "metadata": {
    "ExecuteTime": {
     "end_time": "2021-01-15T20:19:18.144171Z",
     "start_time": "2021-01-15T20:19:18.139170Z"
    }
   },
   "outputs": [
    {
     "data": {
      "text/plain": [
       "Não informada    1347\n",
       "18                140\n",
       "17                139\n",
       "20                138\n",
       "16                131\n",
       "                 ... \n",
       "82                  1\n",
       "87                  1\n",
       "1                   1\n",
       "86                  1\n",
       "81                  1\n",
       "Name: Age, Length: 81, dtype: int64"
      ]
     },
     "execution_count": 244,
     "metadata": {},
     "output_type": "execute_result"
    }
   ],
   "source": [
    "df['Age'].value_counts()"
   ]
  },
  {
   "cell_type": "code",
   "execution_count": 245,
   "metadata": {
    "ExecuteTime": {
     "end_time": "2021-01-15T20:19:21.585178Z",
     "start_time": "2021-01-15T20:19:21.573175Z"
    }
   },
   "outputs": [
    {
     "data": {
      "text/plain": [
       "Date              0\n",
       "Year              0\n",
       "Type              0\n",
       "Country           0\n",
       "Sex               0\n",
       "Age               0\n",
       "Fatal (Y/N)     345\n",
       "Time           1846\n",
       "dtype: int64"
      ]
     },
     "execution_count": 245,
     "metadata": {},
     "output_type": "execute_result"
    }
   ],
   "source": [
    "df.isnull().sum()"
   ]
  },
  {
   "cell_type": "code",
   "execution_count": 246,
   "metadata": {
    "ExecuteTime": {
     "end_time": "2021-01-15T20:19:31.530681Z",
     "start_time": "2021-01-15T20:19:31.517677Z"
    }
   },
   "outputs": [
    {
     "data": {
      "text/plain": [
       "array(['N', 'Y', nan, 'M', 'UNKNOWN', '2017', ' N'], dtype=object)"
      ]
     },
     "execution_count": 246,
     "metadata": {},
     "output_type": "execute_result"
    }
   ],
   "source": [
    "#exluir espacos, deixar todos maiusculos para leitura,  e retirar valores invalidos.\n",
    "df['Fatal (Y/N)'].unique()"
   ]
  },
  {
   "cell_type": "code",
   "execution_count": 247,
   "metadata": {
    "ExecuteTime": {
     "end_time": "2021-01-15T20:19:45.131691Z",
     "start_time": "2021-01-15T20:19:45.121689Z"
    }
   },
   "outputs": [],
   "source": [
    "df['Fatal (Y/N)'] =df['Fatal (Y/N)'].replace({'M ': 'N', 'UNKNOWN': 1,'2017': 1, ' N': 'N','M': 'N'})"
   ]
  },
  {
   "cell_type": "code",
   "execution_count": 248,
   "metadata": {
    "ExecuteTime": {
     "end_time": "2021-01-15T20:19:46.466377Z",
     "start_time": "2021-01-15T20:19:46.460375Z"
    }
   },
   "outputs": [],
   "source": [
    "df['Fatal (Y/N)'] = df['Fatal (Y/N)'].str.extract(r'(\\w*)')"
   ]
  },
  {
   "cell_type": "code",
   "execution_count": 249,
   "metadata": {
    "ExecuteTime": {
     "end_time": "2021-01-15T20:19:48.074361Z",
     "start_time": "2021-01-15T20:19:48.057358Z"
    }
   },
   "outputs": [],
   "source": [
    "df['Fatal (Y/N)'] = df['Fatal (Y/N)'].fillna(\"N\")"
   ]
  },
  {
   "cell_type": "code",
   "execution_count": 250,
   "metadata": {
    "ExecuteTime": {
     "end_time": "2021-01-15T20:19:49.732694Z",
     "start_time": "2021-01-15T20:19:49.715690Z"
    }
   },
   "outputs": [
    {
     "data": {
      "text/plain": [
       "array(['N', 'Y'], dtype=object)"
      ]
     },
     "execution_count": 250,
     "metadata": {},
     "output_type": "execute_result"
    }
   ],
   "source": [
    "df['Fatal (Y/N)'].unique()"
   ]
  },
  {
   "cell_type": "code",
   "execution_count": 251,
   "metadata": {
    "ExecuteTime": {
     "end_time": "2021-01-15T20:19:52.188049Z",
     "start_time": "2021-01-15T20:19:52.179048Z"
    }
   },
   "outputs": [
    {
     "data": {
      "text/plain": [
       "N    3709\n",
       "Y     789\n",
       "Name: Fatal (Y/N), dtype: int64"
      ]
     },
     "execution_count": 251,
     "metadata": {},
     "output_type": "execute_result"
    }
   ],
   "source": [
    "df['Fatal (Y/N)'].value_counts()"
   ]
  },
  {
   "cell_type": "code",
   "execution_count": 252,
   "metadata": {
    "ExecuteTime": {
     "end_time": "2021-01-15T20:19:55.522815Z",
     "start_time": "2021-01-15T20:19:55.512814Z"
    }
   },
   "outputs": [
    {
     "data": {
      "text/plain": [
       "Date              0\n",
       "Year              0\n",
       "Type              0\n",
       "Country           0\n",
       "Sex               0\n",
       "Age               0\n",
       "Fatal (Y/N)       0\n",
       "Time           1846\n",
       "dtype: int64"
      ]
     },
     "execution_count": 252,
     "metadata": {},
     "output_type": "execute_result"
    }
   ],
   "source": [
    "#verificando quantas NaN ainda existem em cada coluna.\n",
    "df.isnull().sum()"
   ]
  },
  {
   "cell_type": "code",
   "execution_count": 253,
   "metadata": {
    "ExecuteTime": {
     "end_time": "2021-01-15T20:19:58.371740Z",
     "start_time": "2021-01-15T20:19:58.352736Z"
    }
   },
   "outputs": [
    {
     "data": {
      "text/plain": [
       "array([' ', ' 14h00', '\"After dark\"', '\"Early evening\"', '\"Evening\"',\n",
       "       '\"Just before 11h00\"', '\"Night\"', '\"shortly before dusk\"', '--',\n",
       "       '00h30', '01h00', '02h00', '02h30', '02h45', '03h00', '03h30',\n",
       "       '04h00', '0500', '05h00', '05h30', '05h40', '05h45', '06h00',\n",
       "       '06h10', '06h15', '06h30', '06h45', '06h47', '06h50', '06j00',\n",
       "       '07h00', '07h05', '07h08', '07h10', '07h15', '07h19', '07h20',\n",
       "       '07h30', '07h40', '07h45', '07h50', '07h56', '0830', '08h00',\n",
       "       '08h00 / 09h30', '08h05', '08h10', '08h15', '08h20', '08h30',\n",
       "       '08h35', '08h40', '08h45', '08h50', '08h55', '08h57', '08h58',\n",
       "       '09h00', '09h00 - 09h30', '09h00 -10h00', '09h05', '09h11',\n",
       "       '09h15', '09h20', '09h30', '09h30 ', '09h30 / 10h00',\n",
       "       '09h30 / 15h30', '09h35', '09h40', '09h45', '09h50', '09h55',\n",
       "       '09h57', '10h00', '10h00 -- 11h00', '10h00 / 11h00',\n",
       "       '10h00 or 14h00', '10h07', '10h10', '10h15', '10h16', '10h20',\n",
       "       '10h22', '10h25', '10h27', '10h28', '10h30', '10h30 or 13h30',\n",
       "       '10h35', '10h40', '10h43', '10h44', '10h45', '10h45-11h15',\n",
       "       '10h50', '10h55', '11h00', '11h00 / 11h30',\n",
       "       '11h01 -time of ship sinking', '11h05', '11h06', '11h10', '11h115',\n",
       "       '11h15', '11h20', '11h25', '11h30', '11h30 ', '11h40', '11h41',\n",
       "       '11h45', '11h48', '11h50', '11h51', '11h53', '11h56', '11h57',\n",
       "       '11h58', '12h00', '12h02', '12h05', '12h10', '12h15', '12h20',\n",
       "       '12h25', '12h30', '12h33', '12h34', '12h35', '12h38', '12h39',\n",
       "       '12h40', '12h45', '12h45 / 13h45', '12h46', '12h48', '12h50',\n",
       "       '12h54', '12h55', '1300', '13h00', '13h05', '13h06', '13h10',\n",
       "       '13h14', '13h15', '13h19', '13h20', '13h23', '13h24', '13h25',\n",
       "       '13h26', '13h30', '13h35', '13h37', '13h40', '13h42', '13h45',\n",
       "       '13h50', '13h51', '13h53', '13h55', '14h00', '14h00  -15h00',\n",
       "       '14h00 - 15h00', '14h10', '14h15', '14h16', '14h20', '14h21',\n",
       "       '14h25', '14h30', '14h30 / 15h30', '14h34', '14h35', '14h37',\n",
       "       '14h40', '14h45', '14h50', '14h55', '15h00', '15h00 or 15h45',\n",
       "       '15h00j', '15h01', '15h05', '15h06', '15h15', '15h19', '15h20',\n",
       "       '15h25', '15h30', '15h35', '15h40', '15h44', '15h45', '15h49',\n",
       "       '15h50', '15h52', '15h53', '15h55', '15h56', '15j45', '1600',\n",
       "       '16h00', '16h05', '16h10', '16h12', '16h14', '16h15', '16h20',\n",
       "       '16h23', '16h25', '16h30', '16h30 or 18h00', '16h35', '16h40',\n",
       "       '16h45', '16h50', '16h55', '17h00', '17h00 Sunset',\n",
       "       '17h00 or 17h40', '17h01', '17h10', '17h11', '17h15', '17h17',\n",
       "       '17h20', '17h30', '17h34', '17h35', '17h40', '17h42', '17h45',\n",
       "       '17h46', '17h50', '17h51', '17h55', '17h58', '18h00', '18h05',\n",
       "       '18h10', '18h12', '18h15', '18h15 to 21h30', '18h20', '18h25',\n",
       "       '18h30', '18h30 (Sunset)', '18h30?', '18h40', '18h45', '18h50',\n",
       "       '19h00', '19h00 / 20h00', '19h00, Dusk', '19h05', '19h10', '19h15',\n",
       "       '19h20', '19h28', '19h30', '19h35', '19h45', '19h55',\n",
       "       '2 hours after Opperman', '20h00', '20h15', '20h30',\n",
       "       '20h45 (Sunset)', '21h00', '21h30', '21h50', '22h00', '22h30',\n",
       "       '23h00', '23h30', '30 minutes after 1992.07.08.a', '8:04 pm',\n",
       "       '9h00', '<07h30', '>06h45', '>08h00', '>12h00', '>14h30', '>17h00',\n",
       "       'A.M.', 'AM', 'After 04h00', 'After Dusk', 'After midnight',\n",
       "       'After noon', 'Afternoon', 'Before 07h00',\n",
       "       'Between 05h00 and 08h00', 'Between 06h00 & 07h20', 'Dark', 'Dawn',\n",
       "       'Daybreak', 'Daytime', 'Dusk', 'Early Morning', 'Early afternoon',\n",
       "       'Early morning', 'Evening',\n",
       "       'FATAL  (Wire netting installed at local beaches after this incident.)',\n",
       "       'Just after 12h00', 'Just before dawn', 'Just before noon',\n",
       "       'Just before sundown', 'Late afternon', 'Late afternoon',\n",
       "       'Late morning', 'Lunchtime', 'Mid afternoon', 'Mid morning',\n",
       "       'Mid-morning', 'Midday', 'Midnight', 'Morning', 'Morning ',\n",
       "       'Night', 'Nightfall', 'Noon', 'P.M.',\n",
       "       'Possibly same incident as 2000.08.21', 'Prior to 10h37',\n",
       "       'Ship aban-doned at 03h10', 'Shortly after midnight',\n",
       "       'Shortly before 12h00', 'Shortly before 13h00',\n",
       "       'Sometime between 06h00 & 08hoo', 'Sunset', 'X', 'night', '\\xa0 ',\n",
       "       nan], dtype=object)"
      ]
     },
     "execution_count": 253,
     "metadata": {},
     "output_type": "execute_result"
    }
   ],
   "source": [
    "#verificando as informacoes referente ao horario de ataque\n",
    "df['Time'].sort_values().unique()"
   ]
  },
  {
   "cell_type": "code",
   "execution_count": 254,
   "metadata": {
    "ExecuteTime": {
     "end_time": "2021-01-15T20:20:02.447085Z",
     "start_time": "2021-01-15T20:20:02.440084Z"
    }
   },
   "outputs": [],
   "source": [
    "#convertendo para string\n",
    "df.Time=df.Time.apply(str)"
   ]
  },
  {
   "cell_type": "code",
   "execution_count": 255,
   "metadata": {
    "ExecuteTime": {
     "end_time": "2021-01-15T20:20:04.572968Z",
     "start_time": "2021-01-15T20:20:04.524956Z"
    }
   },
   "outputs": [],
   "source": [
    "#alterando os horarios para períodos do dia\n",
    "df.loc[df[\"Time\"].str.startswith(\"00\"),\"Time\"] = \"Madrugada\"\n",
    "df.loc[df[\"Time\"].str.startswith(\"01\"),\"Time\"] = \"Madrugada\"\n",
    "df.loc[df[\"Time\"].str.startswith(\"02\"),\"Time\"] = \"Madrugada\"\n",
    "df.loc[df[\"Time\"].str.startswith(\"03\"),\"Time\"] = \"Madrugada\"\n",
    "df.loc[df[\"Time\"].str.startswith(\"04\"),\"Time\"] = \"Madrugada\"\n",
    "df.loc[df[\"Time\"].str.startswith(\"05\"),\"Time\"] = \"Madrugada\"\n",
    "df.loc[df[\"Time\"].str.startswith(\"06\"),\"Time\"] = \"Manhã\"\n",
    "df.loc[df[\"Time\"].str.startswith(\"07\"),\"Time\"] = \"Manhã\"\n",
    "df.loc[df[\"Time\"].str.startswith(\"08\"),\"Time\"] = \"Manhã\"\n",
    "df.loc[df[\"Time\"].str.startswith(\"09\"),\"Time\"] = \"Manhã\"\n",
    "df.loc[df[\"Time\"].str.startswith(\"10\"),\"Time\"] = \"Manhã\"\n",
    "df.loc[df[\"Time\"].str.startswith(\"11\"),\"Time\"] = \"Manhã\"\n",
    "df.loc[df[\"Time\"].str.startswith(\"12\"),\"Time\"] = \"Manhã\"\n",
    "df.loc[df[\"Time\"].str.startswith(\"13\"),\"Time\"] = \"Manhã\"\n",
    "df.loc[df[\"Time\"].str.startswith(\"14\"),\"Time\"] = \"Tarde\"\n",
    "df.loc[df[\"Time\"].str.startswith(\"15\"),\"Time\"] = \"Tarde\"\n",
    "df.loc[df[\"Time\"].str.startswith(\"16\"),\"Time\"] = \"Tarde\"\n",
    "df.loc[df[\"Time\"].str.startswith(\"17\"),\"Time\"] = \"Tarde\"\n",
    "df.loc[df[\"Time\"].str.startswith(\"18\"),\"Time\"] = \"Tarde\"\n",
    "df.loc[df[\"Time\"].str.startswith(\"19\"),\"Time\"] = \"Noite\"\n",
    "df.loc[df[\"Time\"].str.startswith(\"2\"),\"Time\"] = \"Noite\""
   ]
  },
  {
   "cell_type": "code",
   "execution_count": 256,
   "metadata": {
    "ExecuteTime": {
     "end_time": "2021-01-15T20:20:07.812414Z",
     "start_time": "2021-01-15T20:20:07.793410Z"
    }
   },
   "outputs": [
    {
     "data": {
      "text/plain": [
       "array([' ', ' 14h00', '\"After dark\"', '\"Early evening\"', '\"Evening\"',\n",
       "       '\"Just before 11h00\"', '\"Night\"', '\"shortly before dusk\"', '--',\n",
       "       '30 minutes after 1992.07.08.a', '8:04 pm', '9h00', '<07h30',\n",
       "       '>06h45', '>08h00', '>12h00', '>14h30', '>17h00', 'A.M.', 'AM',\n",
       "       'After 04h00', 'After Dusk', 'After midnight', 'After noon',\n",
       "       'Afternoon', 'Before 07h00', 'Between 05h00 and 08h00',\n",
       "       'Between 06h00 & 07h20', 'Dark', 'Dawn', 'Daybreak', 'Daytime',\n",
       "       'Dusk', 'Early Morning', 'Early afternoon', 'Early morning',\n",
       "       'Evening',\n",
       "       'FATAL  (Wire netting installed at local beaches after this incident.)',\n",
       "       'Just after 12h00', 'Just before dawn', 'Just before noon',\n",
       "       'Just before sundown', 'Late afternon', 'Late afternoon',\n",
       "       'Late morning', 'Lunchtime', 'Madrugada', 'Manhã', 'Mid afternoon',\n",
       "       'Mid morning', 'Mid-morning', 'Midday', 'Midnight', 'Morning',\n",
       "       'Morning ', 'Night', 'Nightfall', 'Noite', 'Noon', 'P.M.',\n",
       "       'Possibly same incident as 2000.08.21', 'Prior to 10h37',\n",
       "       'Ship aban-doned at 03h10', 'Shortly after midnight',\n",
       "       'Shortly before 12h00', 'Shortly before 13h00',\n",
       "       'Sometime between 06h00 & 08hoo', 'Sunset', 'Tarde', 'X', 'nan',\n",
       "       'night', '\\xa0 '], dtype=object)"
      ]
     },
     "execution_count": 256,
     "metadata": {},
     "output_type": "execute_result"
    }
   ],
   "source": [
    "#verificando dados restantes para substituicao\n",
    "df['Time'].sort_values().unique()"
   ]
  },
  {
   "cell_type": "code",
   "execution_count": 257,
   "metadata": {
    "ExecuteTime": {
     "end_time": "2021-01-15T20:20:10.648392Z",
     "start_time": "2021-01-15T20:20:10.621386Z"
    }
   },
   "outputs": [],
   "source": [
    "df.Time = df.Time.replace({\n",
    "        ' ':\"Manhã\",\n",
    "        '   ':\"Manhã\",\n",
    "        ' 14h00':\"Tarde\",\n",
    "        '\"After dark\"':\"Noite\",\n",
    "        '\"Early evening\"':\"Noite\",\n",
    "        '\"Evening\"':\"Tarde\",\n",
    "        '\"Just before 11h00\"':\"Manhã\", '\"Night\"':\"Noite\",\n",
    "       '\"shortly before dusk\"':\"Tarde\", '--':\"Manhã\", '30 minutes after 1992.07.08.a':\"Noite\",\n",
    "       '8:04 pm':\"Noite\", '9h00':\"Manhã\", '<07h30':\"Manhã\", '>06h45':\"Manhã\", '>08h00':\"Manhã\", '>12h00':\"Manhã\",\n",
    "       '>14h30':\"Tarde\", '>17h00':\"Tarde\", 'A.M.':\"Manhã\", 'AM':\"Manhã\", 'After 04h00':\"Madrugada\", 'After Dusk':\"Madrugada\",\n",
    "       'After midnight':\"Madrugada\", 'After noon':\"Tarde\", 'Afternoon':\"Tarde\", 'Before 07h00':\"Manhã\",\n",
    "       'Before 10h30':\"Manhã\", 'Before daybreak':\"Madrugada\", 'Between 05h00 and 08h00':\"Manhã\",\n",
    "       'Between 06h00 & 07h20':\"Manhã\", 'Dark':\"Madrugada\", 'Dawn':\"Manhã\", 'Daybreak':\"Manhã\", 'Daytime':\"Manhã\",\n",
    "       'Dusk':\"Manhã\", 'Early Morning':\"Manhã\", 'Early afternoon':\"Tarde\", 'Early morning':\"Manhã\",\n",
    "       'Evening':\"Tarde\",\n",
    "       'FATAL  (Wire netting installed at local beaches after this incident.)':\"Manhã\",\n",
    "       'Just after 12h00':\"Tarde\", 'Just before dawn':\"Madrugada\", 'Just before noon':\"Manhã\",\n",
    "       'Just before sundown':\"Madrugada\", 'Late Afternoon':\"Tarde\", 'Late afternon':\"Tarde\",\n",
    "       'Late afternoon':\"Tarde\", 'Late morning':\"Manhã\", 'Lunchtime':\"Tarde\",'Mid afternoon':\"Tarde\", 'Mid morning':\"Manhã\", 'Mid-morning':\"Manhã\", 'Midday':\"Manhã\",\n",
    "       'Midnight':\"Noite\", 'Morning':\"Manhã\", 'Morning ':\"Manhã\", 'Night':\"Noite\", 'Nightfall':\"Noite\",'Noon':\"Manhã\", 'P.M.':\"Tarde\", 'Possibly same incident as 2000.08.21':\"Tarde\",\n",
    "       'Prior to 10h37':\"Manhã\", 'Ship aban-doned at 03h10':\"Madrugada\",\n",
    "       'Shortly after midnight':\"Madrugada\", 'Shortly before 12h00':\"Tarde\",\n",
    "       'Shortly before 13h00':\"Tarde\", 'Sometime between 06h00 & 08hoo':\"Manhã\", 'Sunset':\"Tarde\",\n",
    "       'X':\"Manhã\", 'dusk':\"Manhã\", 'nan':\"Manhã\", 'night':\"Noite\", '\\xa0 ':\"Manhã\"})\n",
    "    "
   ]
  },
  {
   "cell_type": "code",
   "execution_count": 258,
   "metadata": {
    "ExecuteTime": {
     "end_time": "2021-01-15T20:20:12.853064Z",
     "start_time": "2021-01-15T20:20:12.842062Z"
    }
   },
   "outputs": [
    {
     "data": {
      "text/plain": [
       "array(['Madrugada', 'Manhã', 'Noite', 'Tarde'], dtype=object)"
      ]
     },
     "execution_count": 258,
     "metadata": {},
     "output_type": "execute_result"
    }
   ],
   "source": [
    "#verificando valores apos alteracao\n",
    "df['Time'].sort_values().unique()"
   ]
  },
  {
   "cell_type": "code",
   "execution_count": 259,
   "metadata": {
    "ExecuteTime": {
     "end_time": "2021-01-15T20:20:15.584134Z",
     "start_time": "2021-01-15T20:20:15.579132Z"
    }
   },
   "outputs": [
    {
     "data": {
      "text/plain": [
       "Manhã        3095\n",
       "Tarde        1229\n",
       "Noite         144\n",
       "Madrugada      30\n",
       "Name: Time, dtype: int64"
      ]
     },
     "execution_count": 259,
     "metadata": {},
     "output_type": "execute_result"
    }
   ],
   "source": [
    "#verificando quantidade de cada um\n",
    "df.Time.value_counts()"
   ]
  },
  {
   "cell_type": "code",
   "execution_count": 260,
   "metadata": {
    "ExecuteTime": {
     "end_time": "2021-01-15T20:20:18.157087Z",
     "start_time": "2021-01-15T20:20:18.146085Z"
    }
   },
   "outputs": [
    {
     "data": {
      "text/plain": [
       "(4498, 8)"
      ]
     },
     "execution_count": 260,
     "metadata": {},
     "output_type": "execute_result"
    }
   ],
   "source": [
    "#verificando tamanho apos limpeza\n",
    "df.shape"
   ]
  },
  {
   "cell_type": "code",
   "execution_count": 261,
   "metadata": {
    "ExecuteTime": {
     "end_time": "2021-01-15T20:20:20.439887Z",
     "start_time": "2021-01-15T20:20:20.428884Z"
    }
   },
   "outputs": [
    {
     "data": {
      "text/html": [
       "<div>\n",
       "<style scoped>\n",
       "    .dataframe tbody tr th:only-of-type {\n",
       "        vertical-align: middle;\n",
       "    }\n",
       "\n",
       "    .dataframe tbody tr th {\n",
       "        vertical-align: top;\n",
       "    }\n",
       "\n",
       "    .dataframe thead th {\n",
       "        text-align: right;\n",
       "    }\n",
       "</style>\n",
       "<table border=\"1\" class=\"dataframe\">\n",
       "  <thead>\n",
       "    <tr style=\"text-align: right;\">\n",
       "      <th></th>\n",
       "      <th>Date</th>\n",
       "      <th>Year</th>\n",
       "      <th>Type</th>\n",
       "      <th>Country</th>\n",
       "      <th>Sex</th>\n",
       "      <th>Age</th>\n",
       "      <th>Fatal (Y/N)</th>\n",
       "      <th>Time</th>\n",
       "    </tr>\n",
       "  </thead>\n",
       "  <tbody>\n",
       "    <tr>\n",
       "      <th>0</th>\n",
       "      <td>25-Jun-2018</td>\n",
       "      <td>2018.0</td>\n",
       "      <td>Boating</td>\n",
       "      <td>USA</td>\n",
       "      <td>F</td>\n",
       "      <td>57</td>\n",
       "      <td>N</td>\n",
       "      <td>Tarde</td>\n",
       "    </tr>\n",
       "    <tr>\n",
       "      <th>1</th>\n",
       "      <td>18-Jun-2018</td>\n",
       "      <td>2018.0</td>\n",
       "      <td>Unprovoked</td>\n",
       "      <td>USA</td>\n",
       "      <td>F</td>\n",
       "      <td>11</td>\n",
       "      <td>N</td>\n",
       "      <td>Tarde</td>\n",
       "    </tr>\n",
       "    <tr>\n",
       "      <th>2</th>\n",
       "      <td>09-Jun-2018</td>\n",
       "      <td>2018.0</td>\n",
       "      <td>Invalid</td>\n",
       "      <td>USA</td>\n",
       "      <td>M</td>\n",
       "      <td>48</td>\n",
       "      <td>N</td>\n",
       "      <td>Manhã</td>\n",
       "    </tr>\n",
       "    <tr>\n",
       "      <th>3</th>\n",
       "      <td>08-Jun-2018</td>\n",
       "      <td>2018.0</td>\n",
       "      <td>Unprovoked</td>\n",
       "      <td>AUSTRALIA</td>\n",
       "      <td>M</td>\n",
       "      <td>Não informada</td>\n",
       "      <td>N</td>\n",
       "      <td>Manhã</td>\n",
       "    </tr>\n",
       "    <tr>\n",
       "      <th>4</th>\n",
       "      <td>04-Jun-2018</td>\n",
       "      <td>2018.0</td>\n",
       "      <td>Provoked</td>\n",
       "      <td>MEXICO</td>\n",
       "      <td>M</td>\n",
       "      <td>Não informada</td>\n",
       "      <td>N</td>\n",
       "      <td>Manhã</td>\n",
       "    </tr>\n",
       "  </tbody>\n",
       "</table>\n",
       "</div>"
      ],
      "text/plain": [
       "          Date    Year        Type    Country Sex            Age Fatal (Y/N)  \\\n",
       "0  25-Jun-2018  2018.0     Boating        USA   F             57           N   \n",
       "1  18-Jun-2018  2018.0  Unprovoked        USA   F             11           N   \n",
       "2  09-Jun-2018  2018.0     Invalid        USA   M             48           N   \n",
       "3  08-Jun-2018  2018.0  Unprovoked  AUSTRALIA   M  Não informada           N   \n",
       "4  04-Jun-2018  2018.0    Provoked     MEXICO   M  Não informada           N   \n",
       "\n",
       "    Time  \n",
       "0  Tarde  \n",
       "1  Tarde  \n",
       "2  Manhã  \n",
       "3  Manhã  \n",
       "4  Manhã  "
      ]
     },
     "execution_count": 261,
     "metadata": {},
     "output_type": "execute_result"
    }
   ],
   "source": [
    "df.head()"
   ]
  },
  {
   "cell_type": "markdown",
   "metadata": {
    "ExecuteTime": {
     "end_time": "2021-01-14T23:35:32.094703Z",
     "start_time": "2021-01-14T23:35:32.083700Z"
    }
   },
   "source": [
    "Dados por país"
   ]
  },
  {
   "cell_type": "code",
   "execution_count": 262,
   "metadata": {
    "ExecuteTime": {
     "end_time": "2021-01-15T20:20:24.796243Z",
     "start_time": "2021-01-15T20:20:24.783240Z"
    }
   },
   "outputs": [],
   "source": [
    "#Agora sem valores nulos vamos observar os valores por paises\n",
    "top_five_country = df.Country.value_counts().sort_values(ascending = False).head(5)"
   ]
  },
  {
   "cell_type": "code",
   "execution_count": 263,
   "metadata": {
    "ExecuteTime": {
     "end_time": "2021-01-15T20:20:28.419315Z",
     "start_time": "2021-01-15T20:20:28.400311Z"
    }
   },
   "outputs": [],
   "source": [
    "#pegando os 20 paises com mais ocorrencias e separando\n",
    "top_country = df.Country.value_counts().sort_values(ascending = False).head(20)"
   ]
  },
  {
   "cell_type": "code",
   "execution_count": 264,
   "metadata": {
    "ExecuteTime": {
     "end_time": "2021-01-15T20:20:33.420369Z",
     "start_time": "2021-01-15T20:20:33.271334Z"
    }
   },
   "outputs": [
    {
     "data": {
      "text/plain": [
       "Text(0.5, 1.0, 'Countries with more records')"
      ]
     },
     "execution_count": 264,
     "metadata": {},
     "output_type": "execute_result"
    },
    {
     "data": {
      "image/png": "[encoded data removed]",
      "text/plain": [
       "<Figure size 432x288 with 1 Axes>"
      ]
     },
     "metadata": {
      "needs_background": "light"
     },
     "output_type": "display_data"
    }
   ],
   "source": [
    "top_country.plot.bar()\n",
    "plt.xlabel(\"Countrys\")\n",
    "plt.ylabel(\"Numbers of shark attacks\")\n",
    "plt.title(\"Countries with more records\")"
   ]
  },
  {
   "cell_type": "markdown",
   "metadata": {
    "ExecuteTime": {
     "end_time": "2021-01-14T23:36:09.319476Z",
     "start_time": "2021-01-14T23:36:09.304475Z"
    }
   },
   "source": [
    "Dados por horario de ataque"
   ]
  },
  {
   "cell_type": "code",
   "execution_count": 265,
   "metadata": {
    "ExecuteTime": {
     "end_time": "2021-01-15T20:20:36.934525Z",
     "start_time": "2021-01-15T20:20:36.929523Z"
    }
   },
   "outputs": [],
   "source": [
    "df[\"Fatal\"]= df[\"Fatal (Y/N)\"].map({'Y': 1, 'N': 0})"
   ]
  },
  {
   "cell_type": "code",
   "execution_count": 266,
   "metadata": {
    "ExecuteTime": {
     "end_time": "2021-01-15T20:20:38.710926Z",
     "start_time": "2021-01-15T20:20:38.694923Z"
    }
   },
   "outputs": [],
   "source": [
    "df[\"Male\"]= df[\"Sex\"].map({'M': 1, 'F': 0})"
   ]
  },
  {
   "cell_type": "code",
   "execution_count": 267,
   "metadata": {
    "ExecuteTime": {
     "end_time": "2021-01-15T20:20:40.307524Z",
     "start_time": "2021-01-15T20:20:40.289519Z"
    }
   },
   "outputs": [],
   "source": [
    "df[\"Female\"]= df[\"Sex\"].map({'M': 0, 'F': 1})"
   ]
  },
  {
   "cell_type": "code",
   "execution_count": 268,
   "metadata": {
    "ExecuteTime": {
     "end_time": "2021-01-15T20:20:42.989537Z",
     "start_time": "2021-01-15T20:20:42.970532Z"
    }
   },
   "outputs": [],
   "source": [
    "attacks_gender = df.groupby([\"Time\"]).agg({\"Male\":\"sum\",\"Female\":\"sum\",\"Fatal\":\"mean\"}).sort_values(by=\"Fatal\", ascending=False).head(4)"
   ]
  },
  {
   "cell_type": "code",
   "execution_count": 269,
   "metadata": {
    "ExecuteTime": {
     "end_time": "2021-01-15T20:20:45.145074Z",
     "start_time": "2021-01-15T20:20:45.138080Z"
    }
   },
   "outputs": [
    {
     "data": {
      "text/html": [
       "<div>\n",
       "<style scoped>\n",
       "    .dataframe tbody tr th:only-of-type {\n",
       "        vertical-align: middle;\n",
       "    }\n",
       "\n",
       "    .dataframe tbody tr th {\n",
       "        vertical-align: top;\n",
       "    }\n",
       "\n",
       "    .dataframe thead th {\n",
       "        text-align: right;\n",
       "    }\n",
       "</style>\n",
       "<table border=\"1\" class=\"dataframe\">\n",
       "  <thead>\n",
       "    <tr style=\"text-align: right;\">\n",
       "      <th></th>\n",
       "      <th>Male</th>\n",
       "      <th>Female</th>\n",
       "      <th>Fatal</th>\n",
       "    </tr>\n",
       "    <tr>\n",
       "      <th>Time</th>\n",
       "      <th></th>\n",
       "      <th></th>\n",
       "      <th></th>\n",
       "    </tr>\n",
       "  </thead>\n",
       "  <tbody>\n",
       "    <tr>\n",
       "      <th>Madrugada</th>\n",
       "      <td>29</td>\n",
       "      <td>1</td>\n",
       "      <td>0.266667</td>\n",
       "    </tr>\n",
       "    <tr>\n",
       "      <th>Manhã</th>\n",
       "      <td>2751</td>\n",
       "      <td>344</td>\n",
       "      <td>0.183199</td>\n",
       "    </tr>\n",
       "    <tr>\n",
       "      <th>Noite</th>\n",
       "      <td>131</td>\n",
       "      <td>13</td>\n",
       "      <td>0.180556</td>\n",
       "    </tr>\n",
       "    <tr>\n",
       "      <th>Tarde</th>\n",
       "      <td>1039</td>\n",
       "      <td>190</td>\n",
       "      <td>0.152970</td>\n",
       "    </tr>\n",
       "  </tbody>\n",
       "</table>\n",
       "</div>"
      ],
      "text/plain": [
       "           Male  Female     Fatal\n",
       "Time                             \n",
       "Madrugada    29       1  0.266667\n",
       "Manhã      2751     344  0.183199\n",
       "Noite       131      13  0.180556\n",
       "Tarde      1039     190  0.152970"
      ]
     },
     "execution_count": 269,
     "metadata": {},
     "output_type": "execute_result"
    }
   ],
   "source": [
    "attacks_gender "
   ]
  },
  {
   "cell_type": "code",
   "execution_count": null,
   "metadata": {},
   "outputs": [],
   "source": [
    "Dados de ataque por ano"
   ]
  },
  {
   "cell_type": "code",
   "execution_count": 270,
   "metadata": {
    "ExecuteTime": {
     "end_time": "2021-01-15T20:20:58.509841Z",
     "start_time": "2021-01-15T20:20:58.406818Z"
    }
   },
   "outputs": [
    {
     "data": {
      "text/plain": [
       "Text(0.5, 1.0, 'Attacks per year')"
      ]
     },
     "execution_count": 270,
     "metadata": {},
     "output_type": "execute_result"
    },
    {
     "data": {
      "image/png": "[encoded data removed]",
      "text/plain": [
       "<Figure size 432x288 with 1 Axes>"
      ]
     },
     "metadata": {
      "needs_background": "light"
     },
     "output_type": "display_data"
    }
   ],
   "source": [
    "attacks_year= df.groupby('Year', as_index=False).count()\n",
    "year_by_year = attacks_year[attacks_year['Year'] > 1900]\n",
    "year_by_year.plot.scatter(x = 'Year', y = 'Date')\n",
    "plt.xlabel(\"Year\")\n",
    "plt.ylabel(\"Total cases\")\n",
    "plt.title(\"Attacks per year\")"
   ]
  },
  {
   "cell_type": "code",
   "execution_count": 272,
   "metadata": {
    "ExecuteTime": {
     "end_time": "2021-01-15T20:21:04.800917Z",
     "start_time": "2021-01-15T20:21:04.714898Z"
    }
   },
   "outputs": [
    {
     "data": {
      "text/plain": [
       "<matplotlib.axes._subplots.AxesSubplot at 0x220943621c8>"
      ]
     },
     "execution_count": 272,
     "metadata": {},
     "output_type": "execute_result"
    },
    {
     "data": {
      "image/png": "[encoded data removed]",
      "text/plain": [
       "<Figure size 432x288 with 1 Axes>"
      ]
     },
     "metadata": {
      "needs_background": "light"
     },
     "output_type": "display_data"
    }
   ],
   "source": [
    "df['Sex'].value_counts().plot.bar()"
   ]
  },
  {
   "cell_type": "code",
   "execution_count": 273,
   "metadata": {
    "ExecuteTime": {
     "end_time": "2021-01-15T20:21:10.947012Z",
     "start_time": "2021-01-15T20:21:10.896993Z"
    }
   },
   "outputs": [],
   "source": [
    "df.to_csv(\"data/attacks_cleaning.csv\")"
   ]
  },
  {
   "cell_type": "code",
   "execution_count": null,
   "metadata": {},
   "outputs": [],
   "source": [
    "#As informacoes plotadas acima, serao separadas em novo arquivo para melhor visualizacao"
   ]
  }
 ],
 "metadata": {
  "kernelspec": {
   "display_name": "Python 3",
   "language": "python",
   "name": "python3"
  },
  "language_info": {
   "codemirror_mode": {
    "name": "ipython",
    "version": 3
   },
   "file_extension": ".py",
   "mimetype": "text/x-python",
   "name": "python",
   "nbconvert_exporter": "python",
   "pygments_lexer": "ipython3",
   "version": "3.7.6"
  },
  "varInspector": {
   "cols": {
    "lenName": 16,
    "lenType": 16,
    "lenVar": 40
   },
   "kernels_config": {
    "python": {
     "delete_cmd_postfix": "",
     "delete_cmd_prefix": "del ",
     "library": "var_list.py",
     "varRefreshCmd": "print(var_dic_list())"
    },
    "r": {
     "delete_cmd_postfix": ") ",
     "delete_cmd_prefix": "rm(",
     "library": "var_list.r",
     "varRefreshCmd": "cat(var_dic_list()) "
    }
   },
   "types_to_exclude": [
    "module",
    "function",
    "builtin_function_or_method",
    "instance",
    "_Feature"
   ],
   "window_display": false
  }
 },
 "nbformat": 4,
 "nbformat_minor": 4
}
