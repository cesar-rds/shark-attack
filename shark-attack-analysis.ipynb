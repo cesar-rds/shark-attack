{
 "cells": [
  {
   "cell_type": "markdown",
   "metadata": {
    "ExecuteTime": {
     "end_time": "2021-01-10T19:18:44.082898Z",
     "start_time": "2021-01-10T19:18:39.406559Z"
    }
   },
   "source": [
    "Importando bibliotecas"
   ]
  },
  {
   "cell_type": "code",
   "execution_count": 4,
   "metadata": {
    "ExecuteTime": {
     "end_time": "2021-01-15T20:24:43.452049Z",
     "start_time": "2021-01-15T20:24:43.047383Z"
    }
   },
   "outputs": [],
   "source": [
    "import pandas as pd\n",
    "import numpy as np\n",
    "import matplotlib.pyplot as plt\n",
    "import re"
   ]
  },
  {
   "cell_type": "code",
   "execution_count": 7,
   "metadata": {
    "ExecuteTime": {
     "end_time": "2021-01-15T20:25:52.341606Z",
     "start_time": "2021-01-15T20:25:52.286594Z"
    }
   },
   "outputs": [],
   "source": [
    "#importação de arquivo com dados para DataFrame\n",
    "df = pd.read_csv(\"data/attacks_cleaning.csv\", engine='python')"
   ]
  },
  {
   "cell_type": "markdown",
   "metadata": {
    "ExecuteTime": {
     "end_time": "2021-01-15T14:27:03.681270Z",
     "start_time": "2021-01-15T14:27:03.666266Z"
    }
   },
   "source": [
    "## Análise dos países com mais registros de ataque 🌊🦈"
   ]
  },
  {
   "cell_type": "code",
   "execution_count": 8,
   "metadata": {
    "ExecuteTime": {
     "end_time": "2021-01-15T20:25:54.198581Z",
     "start_time": "2021-01-15T20:25:54.033544Z"
    }
   },
   "outputs": [
    {
     "data": {
      "text/plain": [
       "Text(0.5, 1.0, 'Countries with more records')"
      ]
     },
     "execution_count": 8,
     "metadata": {},
     "output_type": "execute_result"
    },
    {
     "data": {
      "image/png": "[encoded data removed]",
      "text/plain": [
       "<Figure size 432x288 with 1 Axes>"
      ]
     },
     "metadata": {
      "needs_background": "light"
     },
     "output_type": "display_data"
    }
   ],
   "source": [
    "#pegando os 20 paises com mais ocorrencias e separando\n",
    "top_country = df.Country.value_counts().sort_values(ascending = False).head(20)\n",
    "top_country.plot.bar()\n",
    "plt.xlabel(\"Countrys\")\n",
    "plt.ylabel(\"Numbers of shark attacks\")\n",
    "plt.title(\"Countries with more records\")"
   ]
  },
  {
   "cell_type": "markdown",
   "metadata": {},
   "source": [
    "##### Podemos notar que os Estados Unidos é o país com mais numeros de ataques, seguidos por Australia e Africa do Sul."
   ]
  },
  {
   "cell_type": "markdown",
   "metadata": {
    "ExecuteTime": {
     "end_time": "2021-01-15T14:27:04.056307Z",
     "start_time": "2021-01-15T14:27:03.871511Z"
    }
   },
   "source": [
    "## Os horarios com maiores ataques fatais, e genero que mais sofrem nesses horarios\n",
    "## ♂️🦈\n"
   ]
  },
  {
   "cell_type": "markdown",
   "metadata": {},
   "source": [
    "Ataques por genero"
   ]
  },
  {
   "cell_type": "code",
   "execution_count": 10,
   "metadata": {
    "ExecuteTime": {
     "end_time": "2021-01-15T20:27:56.660567Z",
     "start_time": "2021-01-15T20:27:56.643564Z"
    }
   },
   "outputs": [
    {
     "data": {
      "text/html": [
       "<div>\n",
       "<style scoped>\n",
       "    .dataframe tbody tr th:only-of-type {\n",
       "        vertical-align: middle;\n",
       "    }\n",
       "\n",
       "    .dataframe tbody tr th {\n",
       "        vertical-align: top;\n",
       "    }\n",
       "\n",
       "    .dataframe thead th {\n",
       "        text-align: right;\n",
       "    }\n",
       "</style>\n",
       "<table border=\"1\" class=\"dataframe\">\n",
       "  <thead>\n",
       "    <tr style=\"text-align: right;\">\n",
       "      <th></th>\n",
       "      <th>Male</th>\n",
       "      <th>Female</th>\n",
       "      <th>Fatal</th>\n",
       "    </tr>\n",
       "    <tr>\n",
       "      <th>Time</th>\n",
       "      <th></th>\n",
       "      <th></th>\n",
       "      <th></th>\n",
       "    </tr>\n",
       "  </thead>\n",
       "  <tbody>\n",
       "    <tr>\n",
       "      <th>Madrugada</th>\n",
       "      <td>29</td>\n",
       "      <td>1</td>\n",
       "      <td>0.266667</td>\n",
       "    </tr>\n",
       "    <tr>\n",
       "      <th>ManhÃ£</th>\n",
       "      <td>2751</td>\n",
       "      <td>344</td>\n",
       "      <td>0.183199</td>\n",
       "    </tr>\n",
       "    <tr>\n",
       "      <th>Noite</th>\n",
       "      <td>131</td>\n",
       "      <td>13</td>\n",
       "      <td>0.180556</td>\n",
       "    </tr>\n",
       "    <tr>\n",
       "      <th>Tarde</th>\n",
       "      <td>1039</td>\n",
       "      <td>190</td>\n",
       "      <td>0.152970</td>\n",
       "    </tr>\n",
       "  </tbody>\n",
       "</table>\n",
       "</div>"
      ],
      "text/plain": [
       "           Male  Female     Fatal\n",
       "Time                             \n",
       "Madrugada    29       1  0.266667\n",
       "ManhÃ£     2751     344  0.183199\n",
       "Noite       131      13  0.180556\n",
       "Tarde      1039     190  0.152970"
      ]
     },
     "execution_count": 10,
     "metadata": {},
     "output_type": "execute_result"
    }
   ],
   "source": [
    "#Separadas colunas e realizadas as somas e médias conforme variaveis\n",
    "attacks_gender = df.groupby([\"Time\"]).agg({\"Male\":\"sum\",\"Female\":\"sum\",\"Fatal\":\"mean\"}).sort_values(by=\"Fatal\", ascending=False).head(4)\n",
    "attacks_gender"
   ]
  },
  {
   "cell_type": "markdown",
   "metadata": {},
   "source": [
    "#### Conseguimos verificar, os países com mais ataques, e os períodos em que os tubaroes são mais fatais. De madrugada os ataques são mais fatais, mas durante a manhã os números de casos são os mais altos."
   ]
  },
  {
   "cell_type": "markdown",
   "metadata": {
    "ExecuteTime": {
     "end_time": "2021-01-15T14:27:04.383060Z",
     "start_time": "2021-01-15T14:27:04.306166Z"
    }
   },
   "source": [
    "#### E esses números eram inferiores, no decorrer dos anos, os números de ataques vão crescendo"
   ]
  },
  {
   "cell_type": "markdown",
   "metadata": {
    "ExecuteTime": {
     "end_time": "2021-01-15T14:27:04.490273Z",
     "start_time": "2021-01-15T14:27:04.385061Z"
    }
   },
   "source": [
    "Dados de ataque por ano"
   ]
  },
  {
   "cell_type": "code",
   "execution_count": 11,
   "metadata": {
    "ExecuteTime": {
     "end_time": "2021-01-15T20:33:53.647326Z",
     "start_time": "2021-01-15T20:33:53.524300Z"
    }
   },
   "outputs": [
    {
     "data": {
      "text/plain": [
       "Text(0.5, 1.0, 'Attacks per year')"
      ]
     },
     "execution_count": 11,
     "metadata": {},
     "output_type": "execute_result"
    },
    {
     "data": {
      "image/png": "[encoded data removed]",
      "text/plain": [
       "<Figure size 432x288 with 1 Axes>"
      ]
     },
     "metadata": {
      "needs_background": "light"
     },
     "output_type": "display_data"
    }
   ],
   "source": [
    "attacks_year= df.groupby('Year', as_index=False).count()\n",
    "year_by_year = attacks_year[attacks_year['Year'] > 1900]\n",
    "year_by_year.plot.scatter(x = 'Year', y = 'Date')\n",
    "plt.xlabel(\"Year\")\n",
    "plt.ylabel(\"Total cases\")\n",
    "plt.title(\"Attacks per year\")"
   ]
  },
  {
   "cell_type": "markdown",
   "metadata": {
    "ExecuteTime": {
     "end_time": "2021-01-15T20:35:47.332193Z",
     "start_time": "2021-01-15T20:35:47.322192Z"
    }
   },
   "source": [
    "#### Os números de ataques foi crescendo. Houve um aumento de casos em 1960, \n",
    "#### porem os ultimos vinte anos  praticamente dobraram o pico de casos daquele ano. "
   ]
  },
  {
   "cell_type": "markdown",
   "metadata": {
    "ExecuteTime": {
     "end_time": "2021-01-15T14:27:05.280280Z",
     "start_time": "2021-01-15T14:27:04.754631Z"
    }
   },
   "source": [
    "#### A diferença entre os ataques sofridos por homens e mulheres no gráfico abaixo, demonstra uma enorme diferença nos ataques entre os generos."
   ]
  },
  {
   "cell_type": "code",
   "execution_count": 14,
   "metadata": {
    "ExecuteTime": {
     "end_time": "2021-01-15T20:36:10.604130Z",
     "start_time": "2021-01-15T20:36:10.515105Z"
    }
   },
   "outputs": [
    {
     "data": {
      "text/plain": [
       "<matplotlib.axes._subplots.AxesSubplot at 0x26f8685e9c8>"
      ]
     },
     "execution_count": 14,
     "metadata": {},
     "output_type": "execute_result"
    },
    {
     "data": {
      "image/png": "[encoded data removed]",
      "text/plain": [
       "<Figure size 432x288 with 1 Axes>"
      ]
     },
     "metadata": {
      "needs_background": "light"
     },
     "output_type": "display_data"
    }
   ],
   "source": [
    "df['Sex'].value_counts().plot.bar()"
   ]
  },
  {
   "cell_type": "markdown",
   "metadata": {
    "ExecuteTime": {
     "end_time": "2021-01-15T20:42:15.025465Z",
     "start_time": "2021-01-15T20:42:15.015464Z"
    }
   },
   "source": [
    "#### A noticia boa, é que nem todos os ataques são fatais, pelo contrário. O gráfico abaixo demonstra que os ataques fatais são bem inferiores. \n",
    "#### Mas, ninguém quer arrumar uma briga com tubarões, não é mesmo?🏄‍"
   ]
  },
  {
   "cell_type": "code",
   "execution_count": 19,
   "metadata": {
    "ExecuteTime": {
     "end_time": "2021-01-15T20:42:59.403243Z",
     "start_time": "2021-01-15T20:42:59.328226Z"
    }
   },
   "outputs": [
    {
     "data": {
      "text/plain": [
       "<matplotlib.axes._subplots.AxesSubplot at 0x26f86923d88>"
      ]
     },
     "execution_count": 19,
     "metadata": {},
     "output_type": "execute_result"
    },
    {
     "data": {
      "image/png": "[encoded data removed]",
      "text/plain": [
       "<Figure size 432x288 with 1 Axes>"
      ]
     },
     "metadata": {
      "needs_background": "light"
     },
     "output_type": "display_data"
    }
   ],
   "source": [
    "df[\"Fatal (Y/N)\"].value_counts().plot.bar()"
   ]
  },
  {
   "cell_type": "code",
   "execution_count": null,
   "metadata": {},
   "outputs": [],
   "source": []
  }
 ],
 "metadata": {
  "kernelspec": {
   "display_name": "Python 3",
   "language": "python",
   "name": "python3"
  },
  "language_info": {
   "codemirror_mode": {
    "name": "ipython",
    "version": 3
   },
   "file_extension": ".py",
   "mimetype": "text/x-python",
   "name": "python",
   "nbconvert_exporter": "python",
   "pygments_lexer": "ipython3",
   "version": "3.7.6"
  },
  "varInspector": {
   "cols": {
    "lenName": 16,
    "lenType": 16,
    "lenVar": 40
   },
   "kernels_config": {
    "python": {
     "delete_cmd_postfix": "",
     "delete_cmd_prefix": "del ",
     "library": "var_list.py",
     "varRefreshCmd": "print(var_dic_list())"
    },
    "r": {
     "delete_cmd_postfix": ") ",
     "delete_cmd_prefix": "rm(",
     "library": "var_list.r",
     "varRefreshCmd": "cat(var_dic_list()) "
    }
   },
   "types_to_exclude": [
    "module",
    "function",
    "builtin_function_or_method",
    "instance",
    "_Feature"
   ],
   "window_display": false
  }
 },
 "nbformat": 4,
 "nbformat_minor": 4
}
